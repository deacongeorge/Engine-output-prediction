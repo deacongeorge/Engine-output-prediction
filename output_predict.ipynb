{
 "cells": [
  {
   "cell_type": "code",
   "execution_count": 2,
   "metadata": {},
   "outputs": [],
   "source": [
    "# import python libraries\n",
    "\n",
    "import pandas as pd\n",
    "import nbconvert\n",
    "import matplotlib.pyplot as plt\n",
    "import numpy as np\n",
    "import scipy\n",
    "import xlrd\n",
    "import seaborn as sns\n",
    "%matplotlib inline\n",
    "from sklearn.feature_extraction.text import CountVectorizer\n",
    "import re, string, unicodedata\n",
    "import os\n",
    "from pyspark.ml.feature import HashingTF, IDF, Tokenizer\n",
    "from pyspark.ml.feature import Word2Vec\n",
    "import spacy\n",
    "import math"
   ]
  },
  {
   "cell_type": "code",
   "execution_count": 3,
   "metadata": {},
   "outputs": [],
   "source": [
    "# 1.0  Data Loading and Descriptive statistics.\n",
    "\n",
    "#1.1  import data and create pandas dataframe\n",
    "vehicle_input_df =  pd.read_excel(\"/SampleDataset.xlsx\",na_values=' ')"
   ]
  },
  {
   "cell_type": "code",
   "execution_count": 4,
   "metadata": {},
   "outputs": [
    {
     "data": {
      "text/html": [
       "<div>\n",
       "<style>\n",
       "    .dataframe thead tr:only-child th {\n",
       "        text-align: right;\n",
       "    }\n",
       "\n",
       "    .dataframe thead th {\n",
       "        text-align: left;\n",
       "    }\n",
       "\n",
       "    .dataframe tbody tr th {\n",
       "        vertical-align: top;\n",
       "    }\n",
       "</style>\n",
       "<table border=\"1\" class=\"dataframe\">\n",
       "  <thead>\n",
       "    <tr style=\"text-align: right;\">\n",
       "      <th></th>\n",
       "      <th>IDField</th>\n",
       "      <th>vMake</th>\n",
       "      <th>Manufactured</th>\n",
       "      <th>Age</th>\n",
       "      <th>VehicleType</th>\n",
       "      <th>EngineSize</th>\n",
       "      <th>DamageCat1</th>\n",
       "      <th>DamageCat2</th>\n",
       "      <th>DamageCat3</th>\n",
       "      <th>ActualOutput</th>\n",
       "    </tr>\n",
       "  </thead>\n",
       "  <tbody>\n",
       "    <tr>\n",
       "      <th>0</th>\n",
       "      <td>98721</td>\n",
       "      <td>TOYOTA</td>\n",
       "      <td>2008</td>\n",
       "      <td>10</td>\n",
       "      <td>Hatchback</td>\n",
       "      <td>998.0</td>\n",
       "      <td>1</td>\n",
       "      <td>1</td>\n",
       "      <td>1</td>\n",
       "      <td>2</td>\n",
       "    </tr>\n",
       "    <tr>\n",
       "      <th>1</th>\n",
       "      <td>98016</td>\n",
       "      <td>SUZUKI</td>\n",
       "      <td>2005</td>\n",
       "      <td>13</td>\n",
       "      <td>Hatchback</td>\n",
       "      <td>1490.0</td>\n",
       "      <td>0</td>\n",
       "      <td>1</td>\n",
       "      <td>4</td>\n",
       "      <td>2</td>\n",
       "    </tr>\n",
       "    <tr>\n",
       "      <th>2</th>\n",
       "      <td>98011</td>\n",
       "      <td>RENAULT</td>\n",
       "      <td>2008</td>\n",
       "      <td>10</td>\n",
       "      <td>MPV</td>\n",
       "      <td>1598.0</td>\n",
       "      <td>1</td>\n",
       "      <td>0</td>\n",
       "      <td>1</td>\n",
       "      <td>2</td>\n",
       "    </tr>\n",
       "    <tr>\n",
       "      <th>3</th>\n",
       "      <td>97974</td>\n",
       "      <td>VAUXHALL</td>\n",
       "      <td>2006</td>\n",
       "      <td>12</td>\n",
       "      <td>MPV</td>\n",
       "      <td>1910.0</td>\n",
       "      <td>1</td>\n",
       "      <td>0</td>\n",
       "      <td>3</td>\n",
       "      <td>2</td>\n",
       "    </tr>\n",
       "    <tr>\n",
       "      <th>4</th>\n",
       "      <td>97960</td>\n",
       "      <td>NISSAN</td>\n",
       "      <td>2004</td>\n",
       "      <td>14</td>\n",
       "      <td>Hatchback</td>\n",
       "      <td>1240.0</td>\n",
       "      <td>2</td>\n",
       "      <td>1</td>\n",
       "      <td>0</td>\n",
       "      <td>2</td>\n",
       "    </tr>\n",
       "  </tbody>\n",
       "</table>\n",
       "</div>"
      ],
      "text/plain": [
       "   IDField     vMake  Manufactured  Age VehicleType  EngineSize  DamageCat1  \\\n",
       "0    98721    TOYOTA          2008   10   Hatchback       998.0           1   \n",
       "1    98016    SUZUKI          2005   13   Hatchback      1490.0           0   \n",
       "2    98011   RENAULT          2008   10         MPV      1598.0           1   \n",
       "3    97974  VAUXHALL          2006   12         MPV      1910.0           1   \n",
       "4    97960    NISSAN          2004   14   Hatchback      1240.0           2   \n",
       "\n",
       "   DamageCat2  DamageCat3  ActualOutput  \n",
       "0           1           1             2  \n",
       "1           1           4             2  \n",
       "2           0           1             2  \n",
       "3           0           3             2  \n",
       "4           1           0             2  "
      ]
     },
     "execution_count": 4,
     "metadata": {},
     "output_type": "execute_result"
    }
   ],
   "source": [
    "#1.2 view the dataframe and display all columns and first 5 rows\n",
    "vehicle_input_df.head()"
   ]
  },
  {
   "cell_type": "code",
   "execution_count": 5,
   "metadata": {},
   "outputs": [
    {
     "data": {
      "text/plain": [
       "(400, 10)"
      ]
     },
     "execution_count": 5,
     "metadata": {},
     "output_type": "execute_result"
    }
   ],
   "source": [
    "#1.2 Data size: show the dataframe size of rows and columns, check if complete data as in input data dictionary with complete data read\n",
    "vehicle_input_df.shape"
   ]
  },
  {
   "cell_type": "code",
   "execution_count": 6,
   "metadata": {},
   "outputs": [
    {
     "name": "stdout",
     "output_type": "stream",
     "text": [
      "<class 'pandas.core.frame.DataFrame'>\n",
      "RangeIndex: 400 entries, 0 to 399\n",
      "Data columns (total 10 columns):\n",
      "IDField         400 non-null int64\n",
      "vMake           400 non-null object\n",
      "Manufactured    400 non-null int64\n",
      "Age             400 non-null int64\n",
      "VehicleType     398 non-null object\n",
      "EngineSize      399 non-null float64\n",
      "DamageCat1      400 non-null int64\n",
      "DamageCat2      400 non-null int64\n",
      "DamageCat3      400 non-null int64\n",
      "ActualOutput    400 non-null int64\n",
      "dtypes: float64(1), int64(7), object(2)\n",
      "memory usage: 31.3+ KB\n"
     ]
    }
   ],
   "source": [
    "#1.3 Data types and count: show the data types and value count of each variable in the columns, check the columns with incomplete data for NaN or Null values\n",
    "\n",
    "vehicle_input_df.info()  # display information"
   ]
  },
  {
   "cell_type": "code",
   "execution_count": 7,
   "metadata": {},
   "outputs": [
    {
     "data": {
      "text/plain": [
       "VehicleType    0.50\n",
       "EngineSize     0.25\n",
       "dtype: float64"
      ]
     },
     "execution_count": 7,
     "metadata": {},
     "output_type": "execute_result"
    }
   ],
   "source": [
    "#1.4 Function to calculate percentage of NaN missing values in each variable of the dataset. columns where 70 to 100% of values are Null are dropped at this stage\n",
    "\n",
    "def nan_percentage():\n",
    "    ''' calcute the percentage of NaN values for each column in the dataframe and return only columns containing NaN and the percentage'''\n",
    "    \n",
    "    nandf = df.loc[:, df.isnull().any()]  # get columns containing nan values\n",
    "    nan_percent = nandf.isnull().sum(axis = 0)/len(df)*100  # percentage of nan values\n",
    "    \n",
    "    return nan_percent\n",
    "# call the function\n",
    "df = vehicle_input_df\n",
    "nan_percentage()"
   ]
  },
  {
   "cell_type": "code",
   "execution_count": 8,
   "metadata": {},
   "outputs": [
    {
     "data": {
      "text/plain": [
       "IDField         400\n",
       "vMake            34\n",
       "Manufactured     20\n",
       "Age              20\n",
       "VehicleType      12\n",
       "EngineSize       96\n",
       "DamageCat1        8\n",
       "DamageCat2        8\n",
       "DamageCat3        9\n",
       "ActualOutput      2\n",
       "dtype: int64"
      ]
     },
     "execution_count": 8,
     "metadata": {},
     "output_type": "execute_result"
    }
   ],
   "source": [
    "#1.2 Variable unique values: Display the number of unique variables of each column\n",
    "\n",
    "vehicle_input_df.nunique() # display number of unique values in each column"
   ]
  },
  {
   "cell_type": "code",
   "execution_count": 9,
   "metadata": {},
   "outputs": [
    {
     "data": {
      "text/html": [
       "<div>\n",
       "<style>\n",
       "    .dataframe thead tr:only-child th {\n",
       "        text-align: right;\n",
       "    }\n",
       "\n",
       "    .dataframe thead th {\n",
       "        text-align: left;\n",
       "    }\n",
       "\n",
       "    .dataframe tbody tr th {\n",
       "        vertical-align: top;\n",
       "    }\n",
       "</style>\n",
       "<table border=\"1\" class=\"dataframe\">\n",
       "  <thead>\n",
       "    <tr style=\"text-align: right;\">\n",
       "      <th></th>\n",
       "      <th>IDField</th>\n",
       "      <th>Manufactured</th>\n",
       "      <th>Age</th>\n",
       "      <th>EngineSize</th>\n",
       "      <th>DamageCat1</th>\n",
       "      <th>DamageCat2</th>\n",
       "      <th>DamageCat3</th>\n",
       "      <th>ActualOutput</th>\n",
       "    </tr>\n",
       "  </thead>\n",
       "  <tbody>\n",
       "    <tr>\n",
       "      <th>count</th>\n",
       "      <td>400.000000</td>\n",
       "      <td>400.000000</td>\n",
       "      <td>400.000000</td>\n",
       "      <td>399.000000</td>\n",
       "      <td>400.000000</td>\n",
       "      <td>400.000000</td>\n",
       "      <td>400.000000</td>\n",
       "      <td>400.000000</td>\n",
       "    </tr>\n",
       "    <tr>\n",
       "      <th>mean</th>\n",
       "      <td>89200.860000</td>\n",
       "      <td>2010.640000</td>\n",
       "      <td>7.360000</td>\n",
       "      <td>1616.478697</td>\n",
       "      <td>1.187500</td>\n",
       "      <td>0.950000</td>\n",
       "      <td>0.820000</td>\n",
       "      <td>1.500000</td>\n",
       "    </tr>\n",
       "    <tr>\n",
       "      <th>std</th>\n",
       "      <td>3794.429099</td>\n",
       "      <td>4.513461</td>\n",
       "      <td>4.513461</td>\n",
       "      <td>489.571224</td>\n",
       "      <td>1.275308</td>\n",
       "      <td>1.359087</td>\n",
       "      <td>1.607501</td>\n",
       "      <td>0.500626</td>\n",
       "    </tr>\n",
       "    <tr>\n",
       "      <th>min</th>\n",
       "      <td>83486.000000</td>\n",
       "      <td>1997.000000</td>\n",
       "      <td>0.000000</td>\n",
       "      <td>875.000000</td>\n",
       "      <td>0.000000</td>\n",
       "      <td>0.000000</td>\n",
       "      <td>0.000000</td>\n",
       "      <td>1.000000</td>\n",
       "    </tr>\n",
       "    <tr>\n",
       "      <th>25%</th>\n",
       "      <td>85860.250000</td>\n",
       "      <td>2007.000000</td>\n",
       "      <td>4.000000</td>\n",
       "      <td>1242.000000</td>\n",
       "      <td>0.000000</td>\n",
       "      <td>0.000000</td>\n",
       "      <td>0.000000</td>\n",
       "      <td>1.000000</td>\n",
       "    </tr>\n",
       "    <tr>\n",
       "      <th>50%</th>\n",
       "      <td>88903.000000</td>\n",
       "      <td>2011.000000</td>\n",
       "      <td>7.000000</td>\n",
       "      <td>1560.000000</td>\n",
       "      <td>1.000000</td>\n",
       "      <td>0.000000</td>\n",
       "      <td>0.000000</td>\n",
       "      <td>1.500000</td>\n",
       "    </tr>\n",
       "    <tr>\n",
       "      <th>75%</th>\n",
       "      <td>91905.250000</td>\n",
       "      <td>2014.000000</td>\n",
       "      <td>11.000000</td>\n",
       "      <td>1968.000000</td>\n",
       "      <td>2.000000</td>\n",
       "      <td>2.000000</td>\n",
       "      <td>1.000000</td>\n",
       "      <td>2.000000</td>\n",
       "    </tr>\n",
       "    <tr>\n",
       "      <th>max</th>\n",
       "      <td>98721.000000</td>\n",
       "      <td>2018.000000</td>\n",
       "      <td>21.000000</td>\n",
       "      <td>3999.000000</td>\n",
       "      <td>7.000000</td>\n",
       "      <td>7.000000</td>\n",
       "      <td>8.000000</td>\n",
       "      <td>2.000000</td>\n",
       "    </tr>\n",
       "  </tbody>\n",
       "</table>\n",
       "</div>"
      ],
      "text/plain": [
       "            IDField  Manufactured         Age   EngineSize  DamageCat1  \\\n",
       "count    400.000000    400.000000  400.000000   399.000000  400.000000   \n",
       "mean   89200.860000   2010.640000    7.360000  1616.478697    1.187500   \n",
       "std     3794.429099      4.513461    4.513461   489.571224    1.275308   \n",
       "min    83486.000000   1997.000000    0.000000   875.000000    0.000000   \n",
       "25%    85860.250000   2007.000000    4.000000  1242.000000    0.000000   \n",
       "50%    88903.000000   2011.000000    7.000000  1560.000000    1.000000   \n",
       "75%    91905.250000   2014.000000   11.000000  1968.000000    2.000000   \n",
       "max    98721.000000   2018.000000   21.000000  3999.000000    7.000000   \n",
       "\n",
       "       DamageCat2  DamageCat3  ActualOutput  \n",
       "count  400.000000  400.000000    400.000000  \n",
       "mean     0.950000    0.820000      1.500000  \n",
       "std      1.359087    1.607501      0.500626  \n",
       "min      0.000000    0.000000      1.000000  \n",
       "25%      0.000000    0.000000      1.000000  \n",
       "50%      0.000000    0.000000      1.500000  \n",
       "75%      2.000000    1.000000      2.000000  \n",
       "max      7.000000    8.000000      2.000000  "
      ]
     },
     "execution_count": 9,
     "metadata": {},
     "output_type": "execute_result"
    }
   ],
   "source": [
    "#1.5 Data statistics: show the data types and value count of each variable in the columns, check the columns with incomplete data for NaN or Null values\n",
    "\n",
    "# QC display of the statics of numerical columns\n",
    "vehicle_input_df.describe()"
   ]
  },
  {
   "cell_type": "code",
   "execution_count": 10,
   "metadata": {},
   "outputs": [],
   "source": [
    "# Dataframe Statistics\n",
    "\n",
    "# manufactured is from 1997 to 2018 which is a period of four years\n",
    "\n",
    "# Observation on the following columns indicates the data distribution is skewed and as seen in the minimum and Maximum data values.\n",
    "\n",
    "# 'EngineSize' has high mean 1616.478697 and low standard deviation 489.571224 \n",
    "\n",
    "# 'Manufactured' has high mean 2010.640000 and low standard deviation 4.513461\n",
    "\n",
    "good = 'good'"
   ]
  },
  {
   "cell_type": "code",
   "execution_count": 11,
   "metadata": {},
   "outputs": [
    {
     "data": {
      "text/plain": [
       "array(['TOYOTA', 'SUZUKI', 'RENAULT', 'VAUXHALL', 'NISSAN', 'VOLKSWAGEN',\n",
       "       'FIAT', 'SKODA', 'KIA', 'CHEVROLET', 'HONDA', 'SMART', 'PEUGEOT',\n",
       "       'FORD', 'LEXUS', 'CITROEN', 'ALFA ROMEO', 'MAZDA', 'BMW', 'AUDI',\n",
       "       'DAEWOO', 'LOTUS', 'HYUNDAI', 'SEAT', 'MERCEDES', 'LAND ROVER',\n",
       "       'SAAB', 'VOLVO', 'MINI', 'MERCEDES-BENZ', 'DS', 'JAGUAR',\n",
       "       'PORSCHE', 'ISUZU'], dtype=object)"
      ]
     },
     "execution_count": 11,
     "metadata": {},
     "output_type": "execute_result"
    }
   ],
   "source": [
    "# 2.0 Data cleaning: In this process the variable coulumn is cleaned to contain the same data type.\n",
    "# Before removing numbers and special caharacters of a variable the unique values are displayed and necessary changes are made.  \n",
    "\n",
    "vehicle_clean_df = vehicle_input_df.copy()   #list the unique values of vMake\n",
    "vehicle_clean_df.vMake.unique()"
   ]
  },
  {
   "cell_type": "code",
   "execution_count": 12,
   "metadata": {},
   "outputs": [
    {
     "name": "stdout",
     "output_type": "stream",
     "text": [
      "['toyota' 'suzuki' 'renault' 'vauxhall' 'nissan' 'volkswagen' 'fiat'\n",
      " 'skoda' 'kia' 'chevrolet' 'honda' 'smart' 'peugeot' 'ford' 'lexus'\n",
      " 'citroen' 'alfaromeo' 'mazda' 'bmw' 'audi' 'daewoo' 'lotus' 'hyundai'\n",
      " 'seat' 'mercedes' 'landrover' 'saab' 'volvo' 'mini' 'mercedesbenz' 'ds'\n",
      " 'jaguar' 'porsche' 'isuzu']\n"
     ]
    }
   ],
   "source": [
    "# 2.1 create a function to clean string data.\n",
    "\n",
    "def clean_text(df = vehicle_clean_df, col= 'vMake'):\n",
    "    '''This function returns a pandas list object of the given dataframe and column.\n",
    "    The values of the column will be changed to lower case, remove spaces, punctuations and numbers,\n",
    "    replace lines with non ascii characters that might exist'''\n",
    "    \n",
    "    df[col]= df[col].str.strip().str.lower().str.replace(' ', '').str.replace('[^\\w\\s]','').apply(lambda x: x.translate(string.punctuation)).apply(lambda x: x.translate(string.digits)).str.replace('[#%\\'()*+,-./:;<=>?@\\[\\]^_`{|}~1234567890’”“′‘\\\\\\]','').str.replace(r'[^\\x00-\\x7f]', '')\n",
    "    \n",
    "    return df[col]\n",
    "    \n",
    "#call function\n",
    "\n",
    "print(clean_text().unique())"
   ]
  },
  {
   "cell_type": "code",
   "execution_count": 13,
   "metadata": {},
   "outputs": [
    {
     "data": {
      "text/plain": [
       "0    toyota\n",
       "1    suzuki\n",
       "Name: vmake, dtype: object"
      ]
     },
     "execution_count": 13,
     "metadata": {},
     "output_type": "execute_result"
    }
   ],
   "source": [
    "# clean vMake column \n",
    "vehicle_clean_df['vmake'] = clean_text(df = vehicle_clean_df, col= 'vMake') # clean using the function clean_text\n",
    "\n",
    "vehicle_clean_df['vmake'].head(2)"
   ]
  },
  {
   "cell_type": "code",
   "execution_count": 14,
   "metadata": {},
   "outputs": [
    {
     "data": {
      "text/plain": [
       "array(['Hatchback', 'MPV', 'Estate', 'Coupe', 'Saloon', '4 DOOR SALOON',\n",
       "       '5 DOOR HATCHBACK', '3 DOOR HATCHBACK', 'Convertible', 'Panel Van',\n",
       "       nan, 'Minibus', 'Pick-up'], dtype=object)"
      ]
     },
     "execution_count": 14,
     "metadata": {},
     "output_type": "execute_result"
    }
   ],
   "source": [
    "# check unique values of column VehicleType\n",
    "vehicle_input_df['VehicleType'].unique()"
   ]
  },
  {
   "cell_type": "code",
   "execution_count": 15,
   "metadata": {},
   "outputs": [
    {
     "data": {
      "text/plain": [
       "array(['hatchback', 'mpv', 'estate', 'coupe', 'saloon', 'fourdoorsaloon',\n",
       "       'fivedoorhatcback', 'threedoorhatchback', 'convertible',\n",
       "       'panelvan', 'missing', 'minibus', 'pickup'], dtype=object)"
      ]
     },
     "execution_count": 15,
     "metadata": {},
     "output_type": "execute_result"
    }
   ],
   "source": [
    "# Comment change '5 DOOR HATCHBACK' to fivedoorhatcback and '3 DOOR HATCHBACK' to threedoorhatchback, nan to missing\n",
    "# '4 DOOR SALOON' to fourdoorsaloon, panel Van to panelvan\n",
    "# convert number to word, convert uppercase to lower case letters\n",
    "# remove spaces and unwanted characters\n",
    "# Data will remain unique and nothing missing\n",
    "\n",
    "vehicle_clean_df['vehicletype'] = vehicle_clean_df['VehicleType'].copy()\n",
    "\n",
    "vehicle_clean_df.vehicletype = vehicle_clean_df.vehicletype.str.replace('5 DOOR HATCHBACK', 'fivedoorhatcback')  # replace to character.\n",
    "\n",
    "vehicle_clean_df.vehicletype = vehicle_clean_df.vehicletype.str.replace('3 DOOR HATCHBACK', 'threedoorhatchback')  # replace to character.\n",
    "\n",
    "vehicle_clean_df.vehicletype = vehicle_clean_df.vehicletype.str.replace('4 DOOR SALOON', 'fourdoorsaloon')          # replace to character.\n",
    "\n",
    "vehicle_clean_df.vehicletype = vehicle_clean_df.vehicletype.str.replace('panel Van', 'panelvan')  # remove space.\n",
    "\n",
    "vehicle_clean_df.vehicletype = vehicle_clean_df.vehicletype.fillna('missing')  # fill missing values\n",
    "\n",
    "vehicle_clean_df['vehicletype'] = clean_text(df = vehicle_clean_df, col= 'vehicletype') # clean using function clean_text\n",
    "\n",
    "vehicle_clean_df['vehicletype'].unique()"
   ]
  },
  {
   "cell_type": "code",
   "execution_count": 16,
   "metadata": {},
   "outputs": [
    {
     "data": {
      "text/plain": [
       "13"
      ]
     },
     "execution_count": 16,
     "metadata": {},
     "output_type": "execute_result"
    }
   ],
   "source": [
    "vehicle_clean_df['vehicletype'].nunique()  # select unique values"
   ]
  },
  {
   "cell_type": "code",
   "execution_count": 17,
   "metadata": {},
   "outputs": [
    {
     "data": {
      "text/html": [
       "<div>\n",
       "<style>\n",
       "    .dataframe thead tr:only-child th {\n",
       "        text-align: right;\n",
       "    }\n",
       "\n",
       "    .dataframe thead th {\n",
       "        text-align: left;\n",
       "    }\n",
       "\n",
       "    .dataframe tbody tr th {\n",
       "        vertical-align: top;\n",
       "    }\n",
       "</style>\n",
       "<table border=\"1\" class=\"dataframe\">\n",
       "  <thead>\n",
       "    <tr style=\"text-align: right;\">\n",
       "      <th></th>\n",
       "      <th>IDField</th>\n",
       "      <th>vMake</th>\n",
       "      <th>Manufactured</th>\n",
       "      <th>Age</th>\n",
       "      <th>VehicleType</th>\n",
       "      <th>EngineSize</th>\n",
       "      <th>DamageCat1</th>\n",
       "      <th>DamageCat2</th>\n",
       "      <th>DamageCat3</th>\n",
       "      <th>ActualOutput</th>\n",
       "      <th>vmake</th>\n",
       "      <th>vehicletype</th>\n",
       "    </tr>\n",
       "  </thead>\n",
       "  <tbody>\n",
       "    <tr>\n",
       "      <th>0</th>\n",
       "      <td>98721</td>\n",
       "      <td>toyota</td>\n",
       "      <td>2008</td>\n",
       "      <td>10</td>\n",
       "      <td>Hatchback</td>\n",
       "      <td>998.0</td>\n",
       "      <td>1</td>\n",
       "      <td>1</td>\n",
       "      <td>1</td>\n",
       "      <td>2</td>\n",
       "      <td>toyota</td>\n",
       "      <td>hatchback</td>\n",
       "    </tr>\n",
       "    <tr>\n",
       "      <th>1</th>\n",
       "      <td>98016</td>\n",
       "      <td>suzuki</td>\n",
       "      <td>2005</td>\n",
       "      <td>13</td>\n",
       "      <td>Hatchback</td>\n",
       "      <td>1490.0</td>\n",
       "      <td>0</td>\n",
       "      <td>1</td>\n",
       "      <td>4</td>\n",
       "      <td>2</td>\n",
       "      <td>suzuki</td>\n",
       "      <td>hatchback</td>\n",
       "    </tr>\n",
       "    <tr>\n",
       "      <th>2</th>\n",
       "      <td>98011</td>\n",
       "      <td>renault</td>\n",
       "      <td>2008</td>\n",
       "      <td>10</td>\n",
       "      <td>MPV</td>\n",
       "      <td>1598.0</td>\n",
       "      <td>1</td>\n",
       "      <td>0</td>\n",
       "      <td>1</td>\n",
       "      <td>2</td>\n",
       "      <td>renault</td>\n",
       "      <td>mpv</td>\n",
       "    </tr>\n",
       "  </tbody>\n",
       "</table>\n",
       "</div>"
      ],
      "text/plain": [
       "   IDField    vMake  Manufactured  Age VehicleType  EngineSize  DamageCat1  \\\n",
       "0    98721   toyota          2008   10   Hatchback       998.0           1   \n",
       "1    98016   suzuki          2005   13   Hatchback      1490.0           0   \n",
       "2    98011  renault          2008   10         MPV      1598.0           1   \n",
       "\n",
       "   DamageCat2  DamageCat3  ActualOutput    vmake vehicletype  \n",
       "0           1           1             2   toyota   hatchback  \n",
       "1           1           4             2   suzuki   hatchback  \n",
       "2           0           1             2  renault         mpv  "
      ]
     },
     "execution_count": 17,
     "metadata": {},
     "output_type": "execute_result"
    }
   ],
   "source": [
    "vehicle_clean_df.head(3)  # display dataframe"
   ]
  },
  {
   "cell_type": "code",
   "execution_count": 18,
   "metadata": {},
   "outputs": [
    {
     "ename": "NameError",
     "evalue": "name 'vehicle_int_clean_df' is not defined",
     "output_type": "error",
     "traceback": [
      "\u001b[1;31m---------------------------------------------------------------------------\u001b[0m",
      "\u001b[1;31mNameError\u001b[0m                                 Traceback (most recent call last)",
      "\u001b[1;32m<ipython-input-18-856f415aa6c1>\u001b[0m in \u001b[0;36m<module>\u001b[1;34m()\u001b[0m\n\u001b[0;32m      1\u001b[0m \u001b[1;31m# check unique values in Manufactured\u001b[0m\u001b[1;33m\u001b[0m\u001b[1;33m\u001b[0m\u001b[0m\n\u001b[0;32m      2\u001b[0m \u001b[1;33m\u001b[0m\u001b[0m\n\u001b[1;32m----> 3\u001b[1;33m \u001b[0mvehicle_int_clean_df\u001b[0m\u001b[1;33m.\u001b[0m\u001b[0mManufactured\u001b[0m\u001b[1;33m.\u001b[0m\u001b[0munique\u001b[0m\u001b[1;33m(\u001b[0m\u001b[1;33m)\u001b[0m  \u001b[1;31m# check unique values\u001b[0m\u001b[1;33m\u001b[0m\u001b[0m\n\u001b[0m",
      "\u001b[1;31mNameError\u001b[0m: name 'vehicle_int_clean_df' is not defined"
     ]
    }
   ],
   "source": [
    "# check unique values in Manufactured\n",
    "\n",
    "vehicle_int_clean_df.Manufactured.unique()  # check unique values\n"
   ]
  },
  {
   "cell_type": "code",
   "execution_count": 19,
   "metadata": {},
   "outputs": [],
   "source": [
    "# comment: There are nothing to remove in the column Manufactured "
   ]
  },
  {
   "cell_type": "code",
   "execution_count": 20,
   "metadata": {},
   "outputs": [
    {
     "data": {
      "text/plain": [
       "array([ 998., 1490., 1598., 1910., 1240., 1390., 1896., 1242., 1149.,\n",
       "       1086., 1248.,  996., 1991., 1229., 1339.,  999., 1360., 1388.,\n",
       "       1988., 1796., 1560., 1956., 1349., 1596., 1999., 2993., 1968.,\n",
       "       2184.,  995., 1997., 1461., 3456., 1595., 1197., 1364., 1341.,\n",
       "       1995., 1198., 2685., 2926., 2204., 1398., 2198., 2967., 1199.,\n",
       "       1590., 1497., 1781., 1124., 1299., 1753., 1397., 3311., 1399.,\n",
       "       3189., 2435., 1586., 1396., 1587., 1368.,  875., 1686., 2393.,\n",
       "       2792., 1422., 1950., 1591., 1798., 2497., 2179., 2979., 2400.,\n",
       "       1984., 1969., 2401., 2998., 2987., 2231., 1328., 1618., 1499.,\n",
       "       1685., 1329., 1395., 1200., 2143., 1582., 2995.,   nan, 1998.,\n",
       "       2488., 3999.,  899., 2499., 1597., 1797., 2199.])"
      ]
     },
     "execution_count": 20,
     "metadata": {},
     "output_type": "execute_result"
    }
   ],
   "source": [
    "# check unique values in EngineSize\n",
    "\n",
    "vehicle_clean_df.EngineSize.unique()  # check unique values"
   ]
  },
  {
   "cell_type": "code",
   "execution_count": 21,
   "metadata": {},
   "outputs": [
    {
     "data": {
      "text/plain": [
       "array([ 998., 1490., 1598., 1910., 1240., 1390., 1896., 1242., 1149.,\n",
       "       1086., 1248.,  996., 1991., 1229., 1339.,  999., 1360., 1388.,\n",
       "       1988., 1796., 1560., 1956., 1349., 1596., 1999., 2993., 1968.,\n",
       "       2184.,  995., 1997., 1461., 3456., 1595., 1197., 1364., 1341.,\n",
       "       1995., 1198., 2685., 2926., 2204., 1398., 2198., 2967., 1199.,\n",
       "       1590., 1497., 1781., 1124., 1299., 1753., 1397., 3311., 1399.,\n",
       "       3189., 2435., 1586., 1396., 1587., 1368.,  875., 1686., 2393.,\n",
       "       2792., 1422., 1950., 1591., 1798., 2497., 2179., 2979., 2400.,\n",
       "       1984., 1969., 2401., 2998., 2987., 2231., 1328., 1618., 1499.,\n",
       "       1685., 1329., 1395., 1200., 2143., 1582., 2995., 1998., 2488.,\n",
       "       3999.,  899., 2499., 1597., 1797., 2199.])"
      ]
     },
     "execution_count": 21,
     "metadata": {},
     "output_type": "execute_result"
    }
   ],
   "source": [
    "# There is nothing to clean in the column EngineSize except to replace nan value with median due to skewed distribution of the \n",
    "# data values\n",
    "\n",
    "vehicle_clean_df.EngineSize = vehicle_clean_df.EngineSize.fillna(vehicle_clean_df.EngineSize.median())\n",
    "\n",
    "vehicle_clean_df.EngineSize.unique()"
   ]
  },
  {
   "cell_type": "code",
   "execution_count": 22,
   "metadata": {},
   "outputs": [
    {
     "data": {
      "text/plain": [
       "array([1, 0, 2, 3, 5, 4, 7, 6], dtype=int64)"
      ]
     },
     "execution_count": 22,
     "metadata": {},
     "output_type": "execute_result"
    }
   ],
   "source": [
    "vehicle_clean_df.DamageCat1.unique() # check unique valuea"
   ]
  },
  {
   "cell_type": "code",
   "execution_count": 23,
   "metadata": {},
   "outputs": [
    {
     "data": {
      "text/plain": [
       "array([1, 0, 5, 3, 2, 4, 7, 6], dtype=int64)"
      ]
     },
     "execution_count": 23,
     "metadata": {},
     "output_type": "execute_result"
    }
   ],
   "source": [
    "vehicle_clean_df.DamageCat2.unique()  # check unique valuea"
   ]
  },
  {
   "cell_type": "code",
   "execution_count": 24,
   "metadata": {},
   "outputs": [
    {
     "data": {
      "text/plain": [
       "array([1, 4, 3, 0, 5, 2, 6, 8, 7], dtype=int64)"
      ]
     },
     "execution_count": 24,
     "metadata": {},
     "output_type": "execute_result"
    }
   ],
   "source": [
    "vehicle_clean_df.DamageCat3.unique()   # check unique valuea"
   ]
  },
  {
   "cell_type": "code",
   "execution_count": 25,
   "metadata": {},
   "outputs": [
    {
     "data": {
      "text/plain": [
       "array([2, 1], dtype=int64)"
      ]
     },
     "execution_count": 25,
     "metadata": {},
     "output_type": "execute_result"
    }
   ],
   "source": [
    "vehicle_clean_df.ActualOutput.unique()   # check unique valuea"
   ]
  },
  {
   "cell_type": "code",
   "execution_count": 26,
   "metadata": {},
   "outputs": [
    {
     "name": "stdout",
     "output_type": "stream",
     "text": [
      "<class 'pandas.core.frame.DataFrame'>\n",
      "RangeIndex: 400 entries, 0 to 399\n",
      "Data columns (total 10 columns):\n",
      "IDField         400 non-null int64\n",
      "Manufactured    400 non-null int64\n",
      "Age             400 non-null int64\n",
      "EngineSize      400 non-null float64\n",
      "DamageCat1      400 non-null int64\n",
      "DamageCat2      400 non-null int64\n",
      "DamageCat3      400 non-null int64\n",
      "ActualOutput    400 non-null int64\n",
      "vmake           400 non-null object\n",
      "vehicletype     400 non-null object\n",
      "dtypes: float64(1), int64(7), object(2)\n",
      "memory usage: 31.3+ KB\n"
     ]
    }
   ],
   "source": [
    "# Drop the raw variables after  data cleaning\n",
    "\n",
    "vehicle_clean_df1 = vehicle_clean_df.copy()\n",
    "\n",
    "vehicle_clean_df1 = vehicle_clean_df1.drop(['vMake','VehicleType'], axis =1)  #drop columns \n",
    "\n",
    "vehicle_clean_df1.info()"
   ]
  },
  {
   "cell_type": "code",
   "execution_count": 27,
   "metadata": {},
   "outputs": [
    {
     "data": {
      "text/plain": [
       "(400, 10)"
      ]
     },
     "execution_count": 27,
     "metadata": {},
     "output_type": "execute_result"
    }
   ],
   "source": [
    "vehicle_clean_df1.shape"
   ]
  },
  {
   "cell_type": "code",
   "execution_count": 28,
   "metadata": {},
   "outputs": [],
   "source": [
    "# Save the cleaned dataframe to disk1 as a csv file\n",
    "\n",
    "vehicle_clean_df1.to_csv(\"vehicle_clean_df1.csv\")   # save out the data to disc\n"
   ]
  },
  {
   "cell_type": "code",
   "execution_count": 29,
   "metadata": {},
   "outputs": [],
   "source": [
    "# Read data from disk\n",
    "\n",
    "vehicle_clean_df1= pd.read_csv(\"/\"vehicle_clean_df1.csv\")"
   ]
  },
  {
   "cell_type": "code",
   "execution_count": 30,
   "metadata": {},
   "outputs": [],
   "source": [
    "# 3.0 Exploratory Data Analysis.\n",
    "'''\n",
    "The plots are produced using Matplotlib and Seaborn libraries\n",
    "\n",
    "The task in this project is classification, therefore this analysis explore the data that will adequately give a differentiation or separation\n",
    "of the samples in the binary classifier.\n",
    "\n",
    "The visualisation will show relationship between input features or variables.\n",
    "\n",
    "Visualise data distribution of each variable for skew correction\n",
    "\n",
    "This will also help to discover trend and patterns in the data and to understand data characteristics.\n",
    "\n",
    "The Analysis is also aimed at discovering relationships in data engineering choice.\n",
    "\n",
    "Plot include univariate plots using Histogram, Barplot, Bivariate plots such as Boxplots, Multivariate scatter plots and cluster plots.\n",
    "'''\n",
    "plot ='plot'"
   ]
  },
  {
   "cell_type": "code",
   "execution_count": 31,
   "metadata": {},
   "outputs": [
    {
     "data": {
      "text/plain": [
       "<Figure size 640x480 with 0 Axes>"
      ]
     },
     "metadata": {},
     "output_type": "display_data"
    },
    {
     "data": {
      "image/png": "[encoded data removed]",
      "text/plain": [
       "<Figure size 360x360 with 1 Axes>"
      ]
     },
     "metadata": {},
     "output_type": "display_data"
    }
   ],
   "source": [
    "#3.1 BarPlot of target variable 'ActualOutput'\n",
    "plt.figure(num=None, figsize=(8, 6), dpi=80, facecolor='w', edgecolor='k')\n",
    "sns.catplot(x=\"ActualOutput\", kind=\"count\",palette=\"ch:.25\", data=vehicle_clean_df1)\n",
    "plt.title('Bar plot of Target variable ActualOutput')\n",
    "plt.xlabel('ActualOutput')\n",
    "plt.ylabel('Count of Values')\n",
    "plt.xticks(rotation='vertical')\n",
    "#plt.legend(loc='best')\n",
    "plt.show()"
   ]
  },
  {
   "cell_type": "code",
   "execution_count": 32,
   "metadata": {},
   "outputs": [],
   "source": [
    "# Comment.\n",
    "#The target data is balanced with equal number of values for the two classes 1 and 2\n",
    "# There are 200 values for each class giving a total of 400 which is the data size"
   ]
  },
  {
   "cell_type": "code",
   "execution_count": 33,
   "metadata": {},
   "outputs": [
    {
     "name": "stderr",
     "output_type": "stream",
     "text": [
      "C:\\Users\\yasser\\Anaconda2\\envs\\pyt36\\lib\\site-packages\\scipy\\stats\\stats.py:1713: FutureWarning: Using a non-tuple sequence for multidimensional indexing is deprecated; use `arr[tuple(seq)]` instead of `arr[seq]`. In the future this will be interpreted as an array index, `arr[np.array(seq)]`, which will result either in an error or a different result.\n",
      "  return np.add.reduce(sorted[indexer] * weights, axis=axis) / sumval\n"
     ]
    },
    {
     "data": {
      "text/plain": [
       "<Figure size 1120x480 with 0 Axes>"
      ]
     },
     "metadata": {},
     "output_type": "display_data"
    },
    {
     "data": {
      "image/png": "[encoded data removed]",
      "text/plain": [
       "<Figure size 434.125x360 with 1 Axes>"
      ]
     },
     "metadata": {},
     "output_type": "display_data"
    }
   ],
   "source": [
    "# Factor plot \n",
    "plt.figure(num=None, dpi=80,figsize =(14,6), facecolor='w', edgecolor='k')\n",
    "sns.catplot('vehicletype', 'EngineSize', hue='ActualOutput', data=vehicle_clean_df1, kind='bar')\n",
    "plt.title('Nested barplot of VehicleType and EngineSize subset by ActualOutput')\n",
    "plt.xlabel('vehicletype')\n",
    "plt.ylabel('EngineSize')\n",
    "plt.xticks(rotation='vertical')\n",
    "#plt.legend(loc='best')\n",
    "plt.show()"
   ]
  },
  {
   "cell_type": "code",
   "execution_count": 34,
   "metadata": {},
   "outputs": [],
   "source": [
    "# In the classification task, \n",
    "# fourdoorsaloon, threedoorhatchback,panelvan are ActualOutput 2 while missing, minibus and pickup are only Actualoutput 2 \n",
    "# hence not good for the classification task. \n",
    "# Also hatchback contains equal number of both classes hence will not show any \n",
    "# difference between the two classes."
   ]
  },
  {
   "cell_type": "code",
   "execution_count": 35,
   "metadata": {},
   "outputs": [
    {
     "name": "stderr",
     "output_type": "stream",
     "text": [
      "C:\\Users\\yasser\\Anaconda2\\envs\\pyt36\\lib\\site-packages\\scipy\\stats\\stats.py:1713: FutureWarning: Using a non-tuple sequence for multidimensional indexing is deprecated; use `arr[tuple(seq)]` instead of `arr[seq]`. In the future this will be interpreted as an array index, `arr[np.array(seq)]`, which will result either in an error or a different result.\n",
      "  return np.add.reduce(sorted[indexer] * weights, axis=axis) / sumval\n"
     ]
    },
    {
     "data": {
      "image/png": "[encoded data removed]",
      "text/plain": [
       "<Figure size 1008x432 with 2 Axes>"
      ]
     },
     "metadata": {},
     "output_type": "display_data"
    }
   ],
   "source": [
    "# Histogram of 'Age'\n",
    "\n",
    "# Multiple plots boxplot and histograms in the same window\n",
    "# Cut the window in 2 parts\n",
    "f, (ax_box, ax_hist) = plt.subplots(2, figsize =(14,6),sharex=True, gridspec_kw={\"height_ratios\": (.15, .85)})\n",
    " \n",
    "# Add a graph in each part\n",
    "sns.boxplot(vehicle_clean_df1[\"Age\"], ax=ax_box)\n",
    "sns.distplot(vehicle_clean_df1[\"Age\"], ax=ax_hist) \n",
    "# Remove x axis name for the boxplot\n",
    "ax_box.set(xlabel='')\n",
    "plt.title('Boxplot and Histogram of Age')\n",
    "plt.xlabel('Age')\n",
    "plt.ylabel('frequency ditribution')\n",
    "plt.xticks(rotation='vertical')\n",
    "#plt.legend(loc='best')\n",
    "plt.show()"
   ]
  },
  {
   "cell_type": "code",
   "execution_count": 36,
   "metadata": {},
   "outputs": [],
   "source": [
    "# Vehicle age distribution is without outliers."
   ]
  },
  {
   "cell_type": "code",
   "execution_count": 37,
   "metadata": {},
   "outputs": [
    {
     "name": "stderr",
     "output_type": "stream",
     "text": [
      "C:\\Users\\yasser\\Anaconda2\\envs\\pyt36\\lib\\site-packages\\scipy\\stats\\stats.py:1713: FutureWarning: Using a non-tuple sequence for multidimensional indexing is deprecated; use `arr[tuple(seq)]` instead of `arr[seq]`. In the future this will be interpreted as an array index, `arr[np.array(seq)]`, which will result either in an error or a different result.\n",
      "  return np.add.reduce(sorted[indexer] * weights, axis=axis) / sumval\n"
     ]
    },
    {
     "data": {
      "image/png": "[encoded data removed]",
      "text/plain": [
       "<Figure size 1008x432 with 2 Axes>"
      ]
     },
     "metadata": {},
     "output_type": "display_data"
    }
   ],
   "source": [
    "# Histogram of 'EngineSize'\n",
    "\n",
    "# Multiple plots boxplot and histograms in the same window\n",
    "# Cut the window in 2 parts\n",
    "f, (ax_box, ax_hist) = plt.subplots(2, figsize =(14,6),sharex=True, gridspec_kw={\"height_ratios\": (.15, .85)})\n",
    " \n",
    "# Add a graph in each part\n",
    "sns.boxplot(vehicle_clean_df1[\"EngineSize\"], ax=ax_box)\n",
    "sns.distplot(vehicle_clean_df1[\"EngineSize\"], ax=ax_hist) \n",
    "# Remove x axis name for the boxplot\n",
    "ax_box.set(xlabel='')\n",
    "plt.title('Boxplot and Histogram of EngineSize')\n",
    "plt.xlabel('EngineSize')\n",
    "plt.ylabel('frequency ditribution')\n",
    "plt.xticks(rotation='vertical')\n",
    "#plt.legend(loc='best')\n",
    "plt.show()\n"
   ]
  },
  {
   "cell_type": "code",
   "execution_count": 38,
   "metadata": {},
   "outputs": [],
   "source": [
    "# EngineSize distribution is skwed and shows outliers hence has to be transformed\n",
    "# plot histogram of log transformation of EngineSize\n",
    "\n",
    "# Add 1 to replace zero before log transform\n",
    "vehicle_clean_df1.loc[:,\"EngineSizeLog\"] = (vehicle_clean_df.loc[:,\"EngineSize\"]).apply(np.log)"
   ]
  },
  {
   "cell_type": "code",
   "execution_count": 39,
   "metadata": {},
   "outputs": [
    {
     "name": "stderr",
     "output_type": "stream",
     "text": [
      "C:\\Users\\yasser\\Anaconda2\\envs\\pyt36\\lib\\site-packages\\scipy\\stats\\stats.py:1713: FutureWarning: Using a non-tuple sequence for multidimensional indexing is deprecated; use `arr[tuple(seq)]` instead of `arr[seq]`. In the future this will be interpreted as an array index, `arr[np.array(seq)]`, which will result either in an error or a different result.\n",
      "  return np.add.reduce(sorted[indexer] * weights, axis=axis) / sumval\n"
     ]
    },
    {
     "data": {
      "image/png": "[encoded data removed]",
      "text/plain": [
       "<Figure size 1008x432 with 2 Axes>"
      ]
     },
     "metadata": {},
     "output_type": "display_data"
    }
   ],
   "source": [
    "# Histogram of 'EngineSizeLog'\n",
    "# Multiple histograms in the same window\n",
    "# Cut the window in 2 parts\n",
    "f, (ax_box, ax_hist) = plt.subplots(2, figsize =(14,6),sharex=True, gridspec_kw={\"height_ratios\": (.15, .85)})\n",
    " \n",
    "# Add a graph in each part\n",
    "sns.boxplot(vehicle_clean_df1[\"EngineSizeLog\"], ax=ax_box)\n",
    "sns.distplot(vehicle_clean_df1[\"EngineSizeLog\"], ax=ax_hist) \n",
    "# Remove x axis name for the boxplot\n",
    "ax_box.set(xlabel='')\n",
    "plt.title('Boxplot and Histogram of EngineSizeLog')\n",
    "plt.xlabel('EngineSizeLog')\n",
    "plt.ylabel('frequency density')\n",
    "plt.xticks(rotation='vertical')\n",
    "plt.show()"
   ]
  },
  {
   "cell_type": "code",
   "execution_count": 40,
   "metadata": {},
   "outputs": [
    {
     "data": {
      "image/png": "[encoded data removed]",
      "text/plain": [
       "<Figure size 1120x480 with 1 Axes>"
      ]
     },
     "metadata": {},
     "output_type": "display_data"
    }
   ],
   "source": [
    "# grouped boxplot\n",
    "\n",
    "sns.set(style=\"ticks\", palette=\"pastel\")\n",
    "\n",
    "# Draw a nested boxplot to show bills by day and time\n",
    "plt.figure(num=None, dpi=80,figsize =(14,6), facecolor='w', edgecolor='k')\n",
    "#f, axes = plt.subplots(1, 1, figsize=(14, 14), sharex=True)\n",
    "sns.boxplot(x=\"vmake\", y=\"Age\",\n",
    "            hue=\"ActualOutput\", palette=[\"m\", \"g\"],\n",
    "            data=vehicle_clean_df1)\n",
    "sns.despine(offset=10, trim=True)\n",
    "plt.title('Boxplot of vmake using Age, ActualOutput as legend' )\n",
    "plt.xlabel('vmake')\n",
    "plt.ylabel('Age')\n",
    "plt.xticks(rotation='vertical')\n",
    "#plt.legend(loc='best')\n",
    "plt.show()"
   ]
  },
  {
   "cell_type": "code",
   "execution_count": 41,
   "metadata": {},
   "outputs": [
    {
     "name": "stderr",
     "output_type": "stream",
     "text": [
      "C:\\Users\\yasser\\Anaconda2\\envs\\pyt36\\lib\\site-packages\\scipy\\stats\\stats.py:1713: FutureWarning: Using a non-tuple sequence for multidimensional indexing is deprecated; use `arr[tuple(seq)]` instead of `arr[seq]`. In the future this will be interpreted as an array index, `arr[np.array(seq)]`, which will result either in an error or a different result.\n",
      "  return np.add.reduce(sorted[indexer] * weights, axis=axis) / sumval\n"
     ]
    },
    {
     "data": {
      "image/png": "[encoded data removed]",
      "text/plain": [
       "<Figure size 504x504 with 4 Axes>"
      ]
     },
     "metadata": {},
     "output_type": "display_data"
    }
   ],
   "source": [
    "# plot multiple histograms on the same window\n",
    "f, axes = plt.subplots(2, 2, figsize=(7, 7), sharex=True)\n",
    "sns.distplot(vehicle_clean_df1[\"DamageCat1\"], color=\"skyblue\", ax=axes[0, 0])\n",
    "sns.distplot(vehicle_clean_df1[\"DamageCat2\"], color=\"olive\", ax=axes[0, 1])\n",
    "sns.distplot(vehicle_clean_df1[\"DamageCat3\"],color=\"gold\", ax=axes[1, 0])\n",
    "sns.distplot(vehicle_clean_df1[\"ActualOutput\"], color=\"teal\", ax=axes[1, 1])\n",
    "plt.title('ditstplot of DamageCat' )\n",
    "plt.xlabel('DamageCat')\n",
    "plt.ylabel('DamageCat')\n",
    "plt.xticks(rotation='vertical')\n",
    "#plt.legend(loc='best')\n",
    "plt.show()\n"
   ]
  },
  {
   "cell_type": "code",
   "execution_count": 42,
   "metadata": {},
   "outputs": [
    {
     "data": {
      "image/png": "[encoded data removed]",
      "text/plain": [
       "<Figure size 1008x1008 with 1 Axes>"
      ]
     },
     "metadata": {},
     "output_type": "display_data"
    }
   ],
   "source": [
    "# scatter plot of Age and EngineSize and Manufactured\n",
    "\n",
    "# multiple line plot\n",
    "f, axes = plt.subplots(1, 1, figsize=(14, 14), sharex=True)\n",
    "plt.plot( 'Age', 'Manufactured', data=vehicle_clean_df1, marker='o', markerfacecolor='blue', markersize=12, color='skyblue', linewidth=4)\n",
    "plt.title('line plot ofAge and Manufactured')\n",
    "plt.xlabel('Age')\n",
    "plt.ylabel('Manufacture')\n",
    "plt.xticks(rotation='vertical')\n",
    "#plt.legend(loc='best')\n",
    "plt.show()"
   ]
  },
  {
   "cell_type": "code",
   "execution_count": 43,
   "metadata": {},
   "outputs": [],
   "source": [
    "# There is a high correlation between the Age and Manufactured Year which is inversely proportional\n",
    "# as expected"
   ]
  },
  {
   "cell_type": "code",
   "execution_count": 44,
   "metadata": {},
   "outputs": [],
   "source": [
    "# No pattern exists on the plot of Engine size with Damage category\n",
    "# Transforming EngineSize and grouping could improve the relationship with other variables."
   ]
  },
  {
   "cell_type": "code",
   "execution_count": 45,
   "metadata": {},
   "outputs": [
    {
     "data": {
      "image/png": "[encoded data removed]",
      "text/plain": [
       "<Figure size 499.675x216 with 2 Axes>"
      ]
     },
     "metadata": {},
     "output_type": "display_data"
    }
   ],
   "source": [
    "g = sns.FacetGrid(vehicle_clean_df1, col=\"ActualOutput\",  hue=\"ActualOutput\")\n",
    "g = (g.map(plt.scatter, \"Age\", \"DamageCat2\", edgecolor=\"w\")\n",
    "     .add_legend())\n"
   ]
  },
  {
   "cell_type": "code",
   "execution_count": 46,
   "metadata": {},
   "outputs": [
    {
     "data": {
      "image/png": "[encoded data removed]",
      "text/plain": [
       "<Figure size 427.675x360 with 1 Axes>"
      ]
     },
     "metadata": {},
     "output_type": "display_data"
    },
    {
     "data": {
      "image/png": "[encoded data removed]",
      "text/plain": [
       "<Figure size 427.675x360 with 1 Axes>"
      ]
     },
     "metadata": {},
     "output_type": "display_data"
    },
    {
     "data": {
      "image/png": "[encoded data removed]",
      "text/plain": [
       "<Figure size 427.675x360 with 1 Axes>"
      ]
     },
     "metadata": {},
     "output_type": "display_data"
    }
   ],
   "source": [
    "#plot data with seaborn\n",
    "facet =sns.lmplot(data=vehicle_clean_df1, x='Age', y='DamageCat1', hue='ActualOutput', \n",
    "                   fit_reg=False, legend=True, legend_out=True)\n",
    "facet =sns.lmplot(data=vehicle_clean_df1, x='Age', y='DamageCat2', hue='ActualOutput', \n",
    "                   fit_reg=False, legend=True, legend_out=True)\n",
    "facet =sns.lmplot(data=vehicle_clean_df1, x='Age', y='DamageCat3', hue='ActualOutput', \n",
    "                   fit_reg=False, legend=True, legend_out=True)"
   ]
  },
  {
   "cell_type": "code",
   "execution_count": 47,
   "metadata": {},
   "outputs": [],
   "source": [
    "# The scatter plot shows cluster of samples with ActualOutput =1 in the lower value range of Age\n",
    "# While ActualOutput =2 is in the higher value range of Age"
   ]
  },
  {
   "cell_type": "code",
   "execution_count": 48,
   "metadata": {},
   "outputs": [],
   "source": [
    "#4.0 Feature Engineering\n",
    "# This is a process of transforming, extracting, data to obtain better predictive features for modeling "
   ]
  },
  {
   "cell_type": "code",
   "execution_count": 50,
   "metadata": {},
   "outputs": [
    {
     "data": {
      "text/plain": [
       "Unnamed: 0       400\n",
       "IDField          400\n",
       "Manufactured      20\n",
       "Age               20\n",
       "EngineSize        96\n",
       "DamageCat1         8\n",
       "DamageCat2         8\n",
       "DamageCat3         9\n",
       "ActualOutput       2\n",
       "vmake             34\n",
       "vehicletype       13\n",
       "EngineSizeLog     96\n",
       "dtype: int64"
      ]
     },
     "execution_count": 50,
     "metadata": {},
     "output_type": "execute_result"
    }
   ],
   "source": [
    "vehicle_feat_df = vehicle_clean_df1.copy()\n",
    "\n",
    "vehicle_feat_df.nunique()  # unique values"
   ]
  },
  {
   "cell_type": "code",
   "execution_count": 51,
   "metadata": {},
   "outputs": [
    {
     "data": {
      "text/plain": [
       "(400, 12)"
      ]
     },
     "execution_count": 51,
     "metadata": {},
     "output_type": "execute_result"
    }
   ],
   "source": [
    "vehicle_feat_df.shape"
   ]
  },
  {
   "cell_type": "code",
   "execution_count": 52,
   "metadata": {},
   "outputs": [],
   "source": [
    "# EngineSize has 96 unique values. The histogram indicates a skewed data.\n",
    "# Testing log transformation, decile binning for transfprmation\n",
    "# Log transformation was implemented in visualisation\n",
    "\n",
    "# The log transformation was already tested in EDA visualisation\n",
    "#vehicle_clean_df1.loc[:,\"EngineSizeLog\"] = (vehicle_clean_df.loc[:,\"EngineSize\"]).apply(np.log)"
   ]
  },
  {
   "cell_type": "code",
   "execution_count": 53,
   "metadata": {},
   "outputs": [
    {
     "data": {
      "text/plain": [
       "0.0     875.0\n",
       "0.1    1120.2\n",
       "0.2    1241.6\n",
       "0.3    1329.0\n",
       "0.4    1395.0\n",
       "0.5    1560.0\n",
       "0.6    1598.0\n",
       "0.7    1896.0\n",
       "0.8    1988.0\n",
       "0.9    2013.4\n",
       "1.0    3999.0\n",
       "Name: EngineSize, dtype: float64"
      ]
     },
     "execution_count": 53,
     "metadata": {},
     "output_type": "execute_result"
    }
   ],
   "source": [
    "# decile binning of EngineSize  \n",
    "\n",
    "decile_list = [0, .1, .2, .3, .4,.5,.6 ,.7,.8,.9, 1.]\n",
    "deciles = vehicle_feat_df['EngineSize'].quantile(decile_list)  # QC the decile distribution\n",
    "\n",
    "deciles"
   ]
  },
  {
   "cell_type": "code",
   "execution_count": 54,
   "metadata": {},
   "outputs": [
    {
     "data": {
      "text/plain": [
       "Text(0,0.5,'Frequency')"
      ]
     },
     "execution_count": 54,
     "metadata": {},
     "output_type": "execute_result"
    },
    {
     "data": {
      "image/png": "[encoded data removed]",
      "text/plain": [
       "<Figure size 432x288 with 1 Axes>"
      ]
     },
     "metadata": {},
     "output_type": "display_data"
    }
   ],
   "source": [
    "fig, ax = plt.subplots()\n",
    "vehicle_feat_df['EngineSize'].hist(bins=30, color='#A9C5D3', \n",
    "                             edgecolor='black', grid=False)\n",
    "for decile in deciles:\n",
    "    qvl = plt.axvline(decile, color='r')\n",
    "ax.legend([qvl], ['deciles'], fontsize=10)\n",
    "ax.set_title('Engine size Histogram with deciles', \n",
    "             fontsize=12)\n",
    "ax.set_xlabel('Engine size', fontsize=12)\n",
    "ax.set_ylabel('Frequency', fontsize=12)\n"
   ]
  },
  {
   "cell_type": "code",
   "execution_count": 55,
   "metadata": {},
   "outputs": [],
   "source": [
    "# Considering loss of information in EngineSize data, the log transformed data was prefered\n",
    "# in the modelling as it handled skewed data with better distribution.\n"
   ]
  },
  {
   "cell_type": "code",
   "execution_count": 56,
   "metadata": {},
   "outputs": [],
   "source": [
    "#4.0 Transforming Vehicle Make (vmake variable)\n",
    "# Label Encoder function\n",
    "\n",
    "# This function will be used for encoding categorical values to numerical values.\n",
    "# The label encoder from scikit-learn is used in craeting the function\n",
    "from sklearn.preprocessing import LabelEncoder\n",
    "\n",
    "def lbencode(df,col):\n",
    "    ''' This function returns the label encoded values of the text column'''\n",
    "    lb_encd = LabelEncoder()\n",
    "    return lb_encd.fit_transform(df[col])\n",
    "\n",
    "# call function\n",
    "\n",
    "#print(lbencode(trial_df,'col'))\n",
    "\n"
   ]
  },
  {
   "cell_type": "code",
   "execution_count": 57,
   "metadata": {},
   "outputs": [],
   "source": [
    "# label encode vmake and craete a column for the codes\n",
    "vehicle_feat_df['vmake_lbcode'] = lbencode(vehicle_feat_df, 'vmake')\n",
    "\n",
    "# label encode vehicletype and craete a column for the codes\n",
    "vehicle_feat_df['vehicletype_lbcode'] = lbencode(vehicle_feat_df, 'vehicletype')\n"
   ]
  },
  {
   "cell_type": "code",
   "execution_count": 58,
   "metadata": {},
   "outputs": [
    {
     "data": {
      "text/html": [
       "<div>\n",
       "<style>\n",
       "    .dataframe thead tr:only-child th {\n",
       "        text-align: right;\n",
       "    }\n",
       "\n",
       "    .dataframe thead th {\n",
       "        text-align: left;\n",
       "    }\n",
       "\n",
       "    .dataframe tbody tr th {\n",
       "        vertical-align: top;\n",
       "    }\n",
       "</style>\n",
       "<table border=\"1\" class=\"dataframe\">\n",
       "  <thead>\n",
       "    <tr style=\"text-align: right;\">\n",
       "      <th></th>\n",
       "      <th>Unnamed: 0</th>\n",
       "      <th>IDField</th>\n",
       "      <th>Manufactured</th>\n",
       "      <th>Age</th>\n",
       "      <th>EngineSize</th>\n",
       "      <th>DamageCat1</th>\n",
       "      <th>DamageCat2</th>\n",
       "      <th>DamageCat3</th>\n",
       "      <th>ActualOutput</th>\n",
       "      <th>vmake</th>\n",
       "      <th>vehicletype</th>\n",
       "      <th>EngineSizeLog</th>\n",
       "      <th>vmake_lbcode</th>\n",
       "      <th>vehicletype_lbcode</th>\n",
       "    </tr>\n",
       "  </thead>\n",
       "  <tbody>\n",
       "    <tr>\n",
       "      <th>0</th>\n",
       "      <td>0</td>\n",
       "      <td>98721</td>\n",
       "      <td>2008</td>\n",
       "      <td>10</td>\n",
       "      <td>998.0</td>\n",
       "      <td>1</td>\n",
       "      <td>1</td>\n",
       "      <td>1</td>\n",
       "      <td>2</td>\n",
       "      <td>toyota</td>\n",
       "      <td>hatchback</td>\n",
       "      <td>6.905753</td>\n",
       "      <td>30</td>\n",
       "      <td>5</td>\n",
       "    </tr>\n",
       "    <tr>\n",
       "      <th>1</th>\n",
       "      <td>1</td>\n",
       "      <td>98016</td>\n",
       "      <td>2005</td>\n",
       "      <td>13</td>\n",
       "      <td>1490.0</td>\n",
       "      <td>0</td>\n",
       "      <td>1</td>\n",
       "      <td>4</td>\n",
       "      <td>2</td>\n",
       "      <td>suzuki</td>\n",
       "      <td>hatchback</td>\n",
       "      <td>7.306531</td>\n",
       "      <td>29</td>\n",
       "      <td>5</td>\n",
       "    </tr>\n",
       "    <tr>\n",
       "      <th>2</th>\n",
       "      <td>2</td>\n",
       "      <td>98011</td>\n",
       "      <td>2008</td>\n",
       "      <td>10</td>\n",
       "      <td>1598.0</td>\n",
       "      <td>1</td>\n",
       "      <td>0</td>\n",
       "      <td>1</td>\n",
       "      <td>2</td>\n",
       "      <td>renault</td>\n",
       "      <td>mpv</td>\n",
       "      <td>7.376508</td>\n",
       "      <td>24</td>\n",
       "      <td>8</td>\n",
       "    </tr>\n",
       "    <tr>\n",
       "      <th>3</th>\n",
       "      <td>3</td>\n",
       "      <td>97974</td>\n",
       "      <td>2006</td>\n",
       "      <td>12</td>\n",
       "      <td>1910.0</td>\n",
       "      <td>1</td>\n",
       "      <td>0</td>\n",
       "      <td>3</td>\n",
       "      <td>2</td>\n",
       "      <td>vauxhall</td>\n",
       "      <td>mpv</td>\n",
       "      <td>7.554859</td>\n",
       "      <td>31</td>\n",
       "      <td>8</td>\n",
       "    </tr>\n",
       "    <tr>\n",
       "      <th>4</th>\n",
       "      <td>4</td>\n",
       "      <td>97960</td>\n",
       "      <td>2004</td>\n",
       "      <td>14</td>\n",
       "      <td>1240.0</td>\n",
       "      <td>2</td>\n",
       "      <td>1</td>\n",
       "      <td>0</td>\n",
       "      <td>2</td>\n",
       "      <td>nissan</td>\n",
       "      <td>hatchback</td>\n",
       "      <td>7.122867</td>\n",
       "      <td>21</td>\n",
       "      <td>5</td>\n",
       "    </tr>\n",
       "  </tbody>\n",
       "</table>\n",
       "</div>"
      ],
      "text/plain": [
       "   Unnamed: 0  IDField  Manufactured  Age  EngineSize  DamageCat1  DamageCat2  \\\n",
       "0           0    98721          2008   10       998.0           1           1   \n",
       "1           1    98016          2005   13      1490.0           0           1   \n",
       "2           2    98011          2008   10      1598.0           1           0   \n",
       "3           3    97974          2006   12      1910.0           1           0   \n",
       "4           4    97960          2004   14      1240.0           2           1   \n",
       "\n",
       "   DamageCat3  ActualOutput     vmake vehicletype  EngineSizeLog  \\\n",
       "0           1             2    toyota   hatchback       6.905753   \n",
       "1           4             2    suzuki   hatchback       7.306531   \n",
       "2           1             2   renault         mpv       7.376508   \n",
       "3           3             2  vauxhall         mpv       7.554859   \n",
       "4           0             2    nissan   hatchback       7.122867   \n",
       "\n",
       "   vmake_lbcode  vehicletype_lbcode  \n",
       "0            30                   5  \n",
       "1            29                   5  \n",
       "2            24                   8  \n",
       "3            31                   8  \n",
       "4            21                   5  "
      ]
     },
     "execution_count": 58,
     "metadata": {},
     "output_type": "execute_result"
    }
   ],
   "source": [
    "vehicle_feat_df.head(5)"
   ]
  },
  {
   "cell_type": "code",
   "execution_count": 97,
   "metadata": {},
   "outputs": [
    {
     "data": {
      "text/html": [
       "<div>\n",
       "<style>\n",
       "    .dataframe thead tr:only-child th {\n",
       "        text-align: right;\n",
       "    }\n",
       "\n",
       "    .dataframe thead th {\n",
       "        text-align: left;\n",
       "    }\n",
       "\n",
       "    .dataframe tbody tr th {\n",
       "        vertical-align: top;\n",
       "    }\n",
       "</style>\n",
       "<table border=\"1\" class=\"dataframe\">\n",
       "  <thead>\n",
       "    <tr style=\"text-align: right;\">\n",
       "      <th></th>\n",
       "      <th>Unnamed: 0</th>\n",
       "      <th>IDField</th>\n",
       "      <th>Manufactured</th>\n",
       "      <th>Age</th>\n",
       "      <th>EngineSize</th>\n",
       "      <th>DamageCat1</th>\n",
       "      <th>DamageCat2</th>\n",
       "      <th>DamageCat3</th>\n",
       "      <th>ActualOutput</th>\n",
       "      <th>vmake</th>\n",
       "      <th>vehicletype</th>\n",
       "      <th>EngineSizeLog</th>\n",
       "      <th>vmake_lbcode</th>\n",
       "      <th>vehicletype_lbcode</th>\n",
       "    </tr>\n",
       "  </thead>\n",
       "  <tbody>\n",
       "    <tr>\n",
       "      <th>0</th>\n",
       "      <td>0</td>\n",
       "      <td>98721</td>\n",
       "      <td>2008</td>\n",
       "      <td>10</td>\n",
       "      <td>998.0</td>\n",
       "      <td>1</td>\n",
       "      <td>1</td>\n",
       "      <td>1</td>\n",
       "      <td>2</td>\n",
       "      <td>toyota</td>\n",
       "      <td>hatchback</td>\n",
       "      <td>6.905753</td>\n",
       "      <td>30</td>\n",
       "      <td>5</td>\n",
       "    </tr>\n",
       "    <tr>\n",
       "      <th>1</th>\n",
       "      <td>1</td>\n",
       "      <td>98016</td>\n",
       "      <td>2005</td>\n",
       "      <td>13</td>\n",
       "      <td>1490.0</td>\n",
       "      <td>0</td>\n",
       "      <td>1</td>\n",
       "      <td>4</td>\n",
       "      <td>2</td>\n",
       "      <td>suzuki</td>\n",
       "      <td>hatchback</td>\n",
       "      <td>7.306531</td>\n",
       "      <td>29</td>\n",
       "      <td>5</td>\n",
       "    </tr>\n",
       "    <tr>\n",
       "      <th>2</th>\n",
       "      <td>2</td>\n",
       "      <td>98011</td>\n",
       "      <td>2008</td>\n",
       "      <td>10</td>\n",
       "      <td>1598.0</td>\n",
       "      <td>1</td>\n",
       "      <td>0</td>\n",
       "      <td>1</td>\n",
       "      <td>2</td>\n",
       "      <td>renault</td>\n",
       "      <td>mpv</td>\n",
       "      <td>7.376508</td>\n",
       "      <td>24</td>\n",
       "      <td>8</td>\n",
       "    </tr>\n",
       "    <tr>\n",
       "      <th>3</th>\n",
       "      <td>3</td>\n",
       "      <td>97974</td>\n",
       "      <td>2006</td>\n",
       "      <td>12</td>\n",
       "      <td>1910.0</td>\n",
       "      <td>1</td>\n",
       "      <td>0</td>\n",
       "      <td>3</td>\n",
       "      <td>2</td>\n",
       "      <td>vauxhall</td>\n",
       "      <td>mpv</td>\n",
       "      <td>7.554859</td>\n",
       "      <td>31</td>\n",
       "      <td>8</td>\n",
       "    </tr>\n",
       "    <tr>\n",
       "      <th>4</th>\n",
       "      <td>4</td>\n",
       "      <td>97960</td>\n",
       "      <td>2004</td>\n",
       "      <td>14</td>\n",
       "      <td>1240.0</td>\n",
       "      <td>2</td>\n",
       "      <td>1</td>\n",
       "      <td>0</td>\n",
       "      <td>2</td>\n",
       "      <td>nissan</td>\n",
       "      <td>hatchback</td>\n",
       "      <td>7.122867</td>\n",
       "      <td>21</td>\n",
       "      <td>5</td>\n",
       "    </tr>\n",
       "  </tbody>\n",
       "</table>\n",
       "</div>"
      ],
      "text/plain": [
       "   Unnamed: 0  IDField  Manufactured  Age  EngineSize  DamageCat1  DamageCat2  \\\n",
       "0           0    98721          2008   10       998.0           1           1   \n",
       "1           1    98016          2005   13      1490.0           0           1   \n",
       "2           2    98011          2008   10      1598.0           1           0   \n",
       "3           3    97974          2006   12      1910.0           1           0   \n",
       "4           4    97960          2004   14      1240.0           2           1   \n",
       "\n",
       "   DamageCat3  ActualOutput     vmake vehicletype  EngineSizeLog  \\\n",
       "0           1             2    toyota   hatchback       6.905753   \n",
       "1           4             2    suzuki   hatchback       7.306531   \n",
       "2           1             2   renault         mpv       7.376508   \n",
       "3           3             2  vauxhall         mpv       7.554859   \n",
       "4           0             2    nissan   hatchback       7.122867   \n",
       "\n",
       "   vmake_lbcode  vehicletype_lbcode  \n",
       "0            30                   5  \n",
       "1            29                   5  \n",
       "2            24                   8  \n",
       "3            31                   8  \n",
       "4            21                   5  "
      ]
     },
     "execution_count": 97,
     "metadata": {},
     "output_type": "execute_result"
    }
   ],
   "source": [
    "vehicle_feat_df.head(5)"
   ]
  },
  {
   "cell_type": "code",
   "execution_count": 98,
   "metadata": {},
   "outputs": [],
   "source": [
    "# Drop the original variable 'EngineSize','vmake','vehicletype' after transformation and encoding\n",
    "\n",
    "vehicle_feat_df1 = vehicle_feat_df.drop(['IDField','EngineSize','ActualOutput','vmake','vehicletype'], axis =1)"
   ]
  },
  {
   "cell_type": "code",
   "execution_count": 99,
   "metadata": {},
   "outputs": [
    {
     "data": {
      "text/html": [
       "<div>\n",
       "<style>\n",
       "    .dataframe thead tr:only-child th {\n",
       "        text-align: right;\n",
       "    }\n",
       "\n",
       "    .dataframe thead th {\n",
       "        text-align: left;\n",
       "    }\n",
       "\n",
       "    .dataframe tbody tr th {\n",
       "        vertical-align: top;\n",
       "    }\n",
       "</style>\n",
       "<table border=\"1\" class=\"dataframe\">\n",
       "  <thead>\n",
       "    <tr style=\"text-align: right;\">\n",
       "      <th></th>\n",
       "      <th>Unnamed: 0</th>\n",
       "      <th>Manufactured</th>\n",
       "      <th>Age</th>\n",
       "      <th>DamageCat1</th>\n",
       "      <th>DamageCat2</th>\n",
       "      <th>DamageCat3</th>\n",
       "      <th>EngineSizeLog</th>\n",
       "      <th>vmake_lbcode</th>\n",
       "      <th>vehicletype_lbcode</th>\n",
       "    </tr>\n",
       "  </thead>\n",
       "  <tbody>\n",
       "    <tr>\n",
       "      <th>0</th>\n",
       "      <td>0</td>\n",
       "      <td>2008</td>\n",
       "      <td>10</td>\n",
       "      <td>1</td>\n",
       "      <td>1</td>\n",
       "      <td>1</td>\n",
       "      <td>6.905753</td>\n",
       "      <td>30</td>\n",
       "      <td>5</td>\n",
       "    </tr>\n",
       "    <tr>\n",
       "      <th>1</th>\n",
       "      <td>1</td>\n",
       "      <td>2005</td>\n",
       "      <td>13</td>\n",
       "      <td>0</td>\n",
       "      <td>1</td>\n",
       "      <td>4</td>\n",
       "      <td>7.306531</td>\n",
       "      <td>29</td>\n",
       "      <td>5</td>\n",
       "    </tr>\n",
       "    <tr>\n",
       "      <th>2</th>\n",
       "      <td>2</td>\n",
       "      <td>2008</td>\n",
       "      <td>10</td>\n",
       "      <td>1</td>\n",
       "      <td>0</td>\n",
       "      <td>1</td>\n",
       "      <td>7.376508</td>\n",
       "      <td>24</td>\n",
       "      <td>8</td>\n",
       "    </tr>\n",
       "    <tr>\n",
       "      <th>3</th>\n",
       "      <td>3</td>\n",
       "      <td>2006</td>\n",
       "      <td>12</td>\n",
       "      <td>1</td>\n",
       "      <td>0</td>\n",
       "      <td>3</td>\n",
       "      <td>7.554859</td>\n",
       "      <td>31</td>\n",
       "      <td>8</td>\n",
       "    </tr>\n",
       "    <tr>\n",
       "      <th>4</th>\n",
       "      <td>4</td>\n",
       "      <td>2004</td>\n",
       "      <td>14</td>\n",
       "      <td>2</td>\n",
       "      <td>1</td>\n",
       "      <td>0</td>\n",
       "      <td>7.122867</td>\n",
       "      <td>21</td>\n",
       "      <td>5</td>\n",
       "    </tr>\n",
       "  </tbody>\n",
       "</table>\n",
       "</div>"
      ],
      "text/plain": [
       "   Unnamed: 0  Manufactured  Age  DamageCat1  DamageCat2  DamageCat3  \\\n",
       "0           0          2008   10           1           1           1   \n",
       "1           1          2005   13           0           1           4   \n",
       "2           2          2008   10           1           0           1   \n",
       "3           3          2006   12           1           0           3   \n",
       "4           4          2004   14           2           1           0   \n",
       "\n",
       "   EngineSizeLog  vmake_lbcode  vehicletype_lbcode  \n",
       "0       6.905753            30                   5  \n",
       "1       7.306531            29                   5  \n",
       "2       7.376508            24                   8  \n",
       "3       7.554859            31                   8  \n",
       "4       7.122867            21                   5  "
      ]
     },
     "execution_count": 99,
     "metadata": {},
     "output_type": "execute_result"
    }
   ],
   "source": [
    "vehicle_feat_df1.head()"
   ]
  },
  {
   "cell_type": "code",
   "execution_count": 100,
   "metadata": {},
   "outputs": [],
   "source": [
    "vehicle_feat_df2 = vehicle_feat_df1.copy()"
   ]
  },
  {
   "cell_type": "code",
   "execution_count": 101,
   "metadata": {},
   "outputs": [],
   "source": [
    "vehicle_feat_df2['ActualOutput'] = vehicle_feat_df['ActualOutput']"
   ]
  },
  {
   "cell_type": "code",
   "execution_count": 102,
   "metadata": {},
   "outputs": [
    {
     "data": {
      "text/html": [
       "<div>\n",
       "<style>\n",
       "    .dataframe thead tr:only-child th {\n",
       "        text-align: right;\n",
       "    }\n",
       "\n",
       "    .dataframe thead th {\n",
       "        text-align: left;\n",
       "    }\n",
       "\n",
       "    .dataframe tbody tr th {\n",
       "        vertical-align: top;\n",
       "    }\n",
       "</style>\n",
       "<table border=\"1\" class=\"dataframe\">\n",
       "  <thead>\n",
       "    <tr style=\"text-align: right;\">\n",
       "      <th></th>\n",
       "      <th>Unnamed: 0</th>\n",
       "      <th>Manufactured</th>\n",
       "      <th>Age</th>\n",
       "      <th>DamageCat1</th>\n",
       "      <th>DamageCat2</th>\n",
       "      <th>DamageCat3</th>\n",
       "      <th>EngineSizeLog</th>\n",
       "      <th>vmake_lbcode</th>\n",
       "      <th>vehicletype_lbcode</th>\n",
       "      <th>ActualOutput</th>\n",
       "    </tr>\n",
       "  </thead>\n",
       "  <tbody>\n",
       "    <tr>\n",
       "      <th>0</th>\n",
       "      <td>0</td>\n",
       "      <td>2008</td>\n",
       "      <td>10</td>\n",
       "      <td>1</td>\n",
       "      <td>1</td>\n",
       "      <td>1</td>\n",
       "      <td>6.905753</td>\n",
       "      <td>30</td>\n",
       "      <td>5</td>\n",
       "      <td>2</td>\n",
       "    </tr>\n",
       "    <tr>\n",
       "      <th>1</th>\n",
       "      <td>1</td>\n",
       "      <td>2005</td>\n",
       "      <td>13</td>\n",
       "      <td>0</td>\n",
       "      <td>1</td>\n",
       "      <td>4</td>\n",
       "      <td>7.306531</td>\n",
       "      <td>29</td>\n",
       "      <td>5</td>\n",
       "      <td>2</td>\n",
       "    </tr>\n",
       "    <tr>\n",
       "      <th>2</th>\n",
       "      <td>2</td>\n",
       "      <td>2008</td>\n",
       "      <td>10</td>\n",
       "      <td>1</td>\n",
       "      <td>0</td>\n",
       "      <td>1</td>\n",
       "      <td>7.376508</td>\n",
       "      <td>24</td>\n",
       "      <td>8</td>\n",
       "      <td>2</td>\n",
       "    </tr>\n",
       "  </tbody>\n",
       "</table>\n",
       "</div>"
      ],
      "text/plain": [
       "   Unnamed: 0  Manufactured  Age  DamageCat1  DamageCat2  DamageCat3  \\\n",
       "0           0          2008   10           1           1           1   \n",
       "1           1          2005   13           0           1           4   \n",
       "2           2          2008   10           1           0           1   \n",
       "\n",
       "   EngineSizeLog  vmake_lbcode  vehicletype_lbcode  ActualOutput  \n",
       "0       6.905753            30                   5             2  \n",
       "1       7.306531            29                   5             2  \n",
       "2       7.376508            24                   8             2  "
      ]
     },
     "execution_count": 102,
     "metadata": {},
     "output_type": "execute_result"
    }
   ],
   "source": [
    "vehicle_feat_df2.head(3)"
   ]
  },
  {
   "cell_type": "code",
   "execution_count": 103,
   "metadata": {},
   "outputs": [
    {
     "name": "stdout",
     "output_type": "stream",
     "text": [
      "<class 'pandas.core.frame.DataFrame'>\n",
      "RangeIndex: 400 entries, 0 to 399\n",
      "Data columns (total 10 columns):\n",
      "Unnamed: 0            400 non-null int64\n",
      "Manufactured          400 non-null int64\n",
      "Age                   400 non-null int64\n",
      "DamageCat1            400 non-null int64\n",
      "DamageCat2            400 non-null int64\n",
      "DamageCat3            400 non-null int64\n",
      "EngineSizeLog         400 non-null float64\n",
      "vmake_lbcode          400 non-null int64\n",
      "vehicletype_lbcode    400 non-null int64\n",
      "ActualOutput          400 non-null int64\n",
      "dtypes: float64(1), int64(9)\n",
      "memory usage: 31.3 KB\n"
     ]
    }
   ],
   "source": [
    "vehicle_feat_df2.info()"
   ]
  },
  {
   "cell_type": "code",
   "execution_count": 104,
   "metadata": {},
   "outputs": [],
   "source": [
    "# Save the feature enginered dataframe to disk1 as a csv file\n",
    "\n",
    "vehicle_feat_df2.to_csv(\"/vehicle_feat_df2.csv\")   # save out the data to disc\n"
   ]
  },
  {
   "cell_type": "code",
   "execution_count": 105,
   "metadata": {},
   "outputs": [],
   "source": [
    "vehicle_feat_df2 = pd.read_csv(\"/vehicle_feat_df2.csv\")"
   ]
  },
  {
   "cell_type": "code",
   "execution_count": 106,
   "metadata": {},
   "outputs": [
    {
     "data": {
      "text/plain": [
       "<matplotlib.axes._subplots.AxesSubplot at 0x15638550>"
      ]
     },
     "execution_count": 106,
     "metadata": {},
     "output_type": "execute_result"
    },
    {
     "data": {
      "image/png": "[encoded data removed]",
      "text/plain": [
       "<Figure size 792x648 with 2 Axes>"
      ]
     },
     "metadata": {},
     "output_type": "display_data"
    }
   ],
   "source": [
    "# plot of correlation matrix\n",
    "\n",
    "# Compute the correlation matrix\n",
    "corr = vehicle_feat_df2.corr()\n",
    "\n",
    "# Generate a mask for the upper triangle\n",
    "mask = np.zeros_like(corr, dtype=np.bool)\n",
    "mask[np.triu_indices_from(mask)] = True\n",
    "\n",
    "# Set up the matplotlib figure\n",
    "f, ax = plt.subplots(figsize=(11, 9))\n",
    "\n",
    "# Generate a custom diverging colormap\n",
    "cmap = sns.diverging_palette(220, 10, as_cmap=True)\n",
    "\n",
    "# Draw the heatmap with the mask and correct aspect ratio\n",
    "sns.heatmap(corr, mask=mask, cmap=cmap, vmax=.3, center=0,\n",
    "            square=True, linewidths=.5, cbar_kws={\"shrink\": .5})"
   ]
  },
  {
   "cell_type": "code",
   "execution_count": 107,
   "metadata": {},
   "outputs": [],
   "source": [
    "# The variables manufactured and Age indicate high negative correlation of -1\n",
    "# Dropping Manufacturing and replot the correlation matrix"
   ]
  },
  {
   "cell_type": "code",
   "execution_count": 108,
   "metadata": {},
   "outputs": [],
   "source": [
    "vehicle_feat_df3 = vehicle_feat_df2.drop(['Manufactured'], axis =1)"
   ]
  },
  {
   "cell_type": "code",
   "execution_count": 109,
   "metadata": {},
   "outputs": [
    {
     "data": {
      "text/plain": [
       "<matplotlib.axes._subplots.AxesSubplot at 0x132356d8>"
      ]
     },
     "execution_count": 109,
     "metadata": {},
     "output_type": "execute_result"
    },
    {
     "data": {
      "image/png": "[encoded data removed]",
      "text/plain": [
       "<Figure size 792x648 with 2 Axes>"
      ]
     },
     "metadata": {},
     "output_type": "display_data"
    }
   ],
   "source": [
    "# plot of correlation matrix\n",
    "\n",
    "# Compute the correlation matrix\n",
    "corr1 = vehicle_feat_df3.corr()\n",
    "\n",
    "# Generate a mask for the upper triangle\n",
    "mask = np.zeros_like(corr1, dtype=np.bool)\n",
    "mask[np.triu_indices_from(mask)] = True\n",
    "\n",
    "# Set up the matplotlib figure\n",
    "f, ax = plt.subplots(figsize=(11, 9))\n",
    "\n",
    "# Generate a custom diverging colormap\n",
    "cmap = sns.diverging_palette(220, 10, as_cmap=True)\n",
    "\n",
    "# Draw the heatmap with the mask and correct aspect ratio\n",
    "sns.heatmap(corr1, mask=mask, cmap=cmap, vmax=.3, center=0,\n",
    "            square=True, linewidths=.5, cbar_kws={\"shrink\": .5})"
   ]
  },
  {
   "cell_type": "code",
   "execution_count": 110,
   "metadata": {},
   "outputs": [],
   "source": [
    "# Select Features and target data, then split the model training and test data\n",
    "\n",
    "target_df = vehicle_feat_df2['ActualOutput']  # target output\n",
    "\n",
    "features_df = vehicle_feat_df2[['Manufactured','Age','DamageCat1','DamageCat2','DamageCat3','EngineSizeLog','vmake_lbcode',\n",
    "                             'vehicletype_lbcode']]  # features output"
   ]
  },
  {
   "cell_type": "code",
   "execution_count": 114,
   "metadata": {},
   "outputs": [
    {
     "name": "stdout",
     "output_type": "stream",
     "text": [
      "<class 'pandas.core.frame.DataFrame'>\n",
      "RangeIndex: 400 entries, 0 to 399\n",
      "Data columns (total 8 columns):\n",
      "Manufactured          400 non-null int64\n",
      "Age                   400 non-null int64\n",
      "DamageCat1            400 non-null int64\n",
      "DamageCat2            400 non-null int64\n",
      "DamageCat3            400 non-null int64\n",
      "EngineSizeLog         400 non-null float64\n",
      "vmake_lbcode          400 non-null int64\n",
      "vehicletype_lbcode    400 non-null int64\n",
      "dtypes: float64(1), int64(7)\n",
      "memory usage: 25.1 KB\n"
     ]
    }
   ],
   "source": [
    "features_df.info()"
   ]
  },
  {
   "cell_type": "code",
   "execution_count": 112,
   "metadata": {},
   "outputs": [
    {
     "data": {
      "text/plain": [
       "(400,)"
      ]
     },
     "execution_count": 112,
     "metadata": {},
     "output_type": "execute_result"
    }
   ],
   "source": [
    "target_df.shape"
   ]
  },
  {
   "cell_type": "code",
   "execution_count": 113,
   "metadata": {},
   "outputs": [],
   "source": [
    "# feature scalling\n",
    "# Feature scaling improves the convergence of steepest descent algorithms, which do not possess \n",
    "#the property of scale invariance\n",
    "from sklearn import preprocessing\n",
    "from sklearn.preprocessing import StandardScaler\n",
    "\n",
    "std_scale = preprocessing.StandardScaler().fit(features_df)\n",
    "df_std = std_scale.transform(features_df)\n",
    "features_scaled_df = df_std"
   ]
  },
  {
   "cell_type": "code",
   "execution_count": 76,
   "metadata": {},
   "outputs": [],
   "source": [
    "#5.1  Train test splitting\n",
    "from __future__ import print_function\n",
    "from sklearn.model_selection import train_test_split\n",
    "from sklearn import metrics\n",
    "\n",
    "# Make a train/test split using 20% test size\n",
    "X_train, X_test, y_train, y_test = train_test_split(features_scaled_df, target_df,\n",
    "                                                    test_size=0.20,\n",
    "                                                    random_state=21)"
   ]
  },
  {
   "cell_type": "code",
   "execution_count": 77,
   "metadata": {},
   "outputs": [
    {
     "name": "stdout",
     "output_type": "stream",
     "text": [
      "[ True  True  True  True  True  True  True  True]\n",
      "[1 1 1 1 1 1 1 1]\n"
     ]
    }
   ],
   "source": [
    "# Feature Seletion  (Recursive Feature Elimination)\n",
    "# Recursive Feature Elimination (RFE) repeatedly constructs a model and choose eitherthe best or worst \n",
    "# performing features. The goal of RFE is to select features by recursively considering smaller \n",
    "# and smaller sets of features.\n",
    "\n",
    "y=target_df\n",
    "X=features_df\n",
    "from sklearn.feature_selection import RFE\n",
    "from sklearn.linear_model import LogisticRegression\n",
    "logreg = LogisticRegression()\n",
    "rfe = RFE(logreg, 20)\n",
    "rfe = rfe.fit(X_train, y_train)\n",
    "print(rfe.support_)\n",
    "print(rfe.ranking_)"
   ]
  },
  {
   "cell_type": "code",
   "execution_count": 78,
   "metadata": {},
   "outputs": [],
   "source": [
    "# Allfeatures are selected as good for modelling. "
   ]
  },
  {
   "cell_type": "code",
   "execution_count": 79,
   "metadata": {},
   "outputs": [],
   "source": [
    "# 5.0 Model fitting\n",
    "#In the binary classification task, the following models are fitted and comapred using different \n",
    "# evaluation metrics. Logistic regression, NaiveBias, SVm, RandomForest, XGboost\n",
    "# Gradient Descent parameter optimisation"
   ]
  },
  {
   "cell_type": "code",
   "execution_count": 80,
   "metadata": {},
   "outputs": [
    {
     "data": {
      "text/plain": [
       "LogisticRegression(C=1000.0, class_weight=None, dual=False,\n",
       "          fit_intercept=True, intercept_scaling=1, max_iter=100,\n",
       "          multi_class='ovr', n_jobs=1, penalty='l2', random_state=0,\n",
       "          solver='liblinear', tol=0.0001, verbose=0, warm_start=False)"
      ]
     },
     "execution_count": 80,
     "metadata": {},
     "output_type": "execute_result"
    }
   ],
   "source": [
    "# Logistic regaression\n",
    "\n",
    "from sklearn.linear_model import LogisticRegression\n",
    "lr = LogisticRegression(C=1000.0, random_state=0)\n",
    "lr.fit(X_train, y_train)\n",
    "\n"
   ]
  },
  {
   "cell_type": "code",
   "execution_count": 81,
   "metadata": {},
   "outputs": [
    {
     "name": "stdout",
     "output_type": "stream",
     "text": [
      "logisticregression score:  0.85\n"
     ]
    }
   ],
   "source": [
    "#Score is Mean Accuracy\n",
    "logistic_score = lr.score(X_test,y_test)\n",
    "print( 'logisticregression score: ', logistic_score)"
   ]
  },
  {
   "cell_type": "code",
   "execution_count": 82,
   "metadata": {},
   "outputs": [],
   "source": [
    "# Grid search optimisation\n",
    "from sklearn.model_selection import GridSearchCV\n",
    "from sklearn.metrics import classification_report\n",
    "from sklearn.model_selection import RandomizedSearchCV\n",
    "\n",
    "# Create logistic regression\n",
    "lrg = LogisticRegression(random_state=0)             # initialize the model\n",
    "\n",
    "# parameter grid\n",
    "dual=[True,False]\n",
    "max_iter=[100,110,120,130,140]\n",
    "C = [1.0,1.5,2.0,2.5]\n",
    "# Create hyperparameter options\n",
    "param_grid = dict(dual=dual,max_iter=max_iter,C=C)\n",
    "\n",
    "# Grid search\n",
    "random = RandomizedSearchCV(estimator=lrg, param_distributions=param_grid, cv = 10, scoring = 'accuracy')\n"
   ]
  },
  {
   "cell_type": "code",
   "execution_count": 83,
   "metadata": {},
   "outputs": [
    {
     "name": "stdout",
     "output_type": "stream",
     "text": [
      "Best: 0.865625 using {'max_iter': 100, 'dual': True, 'C': 2.5}\n"
     ]
    }
   ],
   "source": [
    "random_result = random.fit(X_train, y_train)\n",
    "# Summarize results\n",
    "print(\"Best: %f using %s\" % (random_result.best_score_, random_result.best_params_))"
   ]
  },
  {
   "cell_type": "code",
   "execution_count": 84,
   "metadata": {},
   "outputs": [
    {
     "name": "stdout",
     "output_type": "stream",
     "text": [
      "classifier accuracy: 0.85\n"
     ]
    }
   ],
   "source": [
    "# Evaluate the classifier by using accuracy measure\n",
    "# Apply the trained Classifier to the test data (which, remember, it has never seen before to measure accuracy)\n",
    "print(\"classifier accuracy:\", random.score(X_test, y_test))  # score model"
   ]
  },
  {
   "cell_type": "code",
   "execution_count": 85,
   "metadata": {},
   "outputs": [
    {
     "data": {
      "text/plain": [
       "array([[32,  5],\n",
       "       [ 7, 36]], dtype=int64)"
      ]
     },
     "execution_count": 85,
     "metadata": {},
     "output_type": "execute_result"
    }
   ],
   "source": [
    "from sklearn.metrics import confusion_matrix\n",
    "\n",
    "# predict with best model\n",
    "# Evaluate the classifier by using confusion matrix compare y predicted to actual y values\n",
    "\n",
    "# Apply the trained Classifier to the X-test data and make predictions\n",
    "y_pred = random.predict(X_test)  # use model to predict on test data for generalisation\n",
    "y_true = y_test\n",
    "# create confusion matrix\n",
    "\n",
    "confusion_matrix(y_true, y_pred)"
   ]
  },
  {
   "cell_type": "code",
   "execution_count": 86,
   "metadata": {},
   "outputs": [
    {
     "data": {
      "text/html": [
       "<div>\n",
       "<style>\n",
       "    .dataframe thead tr:only-child th {\n",
       "        text-align: right;\n",
       "    }\n",
       "\n",
       "    .dataframe thead th {\n",
       "        text-align: left;\n",
       "    }\n",
       "\n",
       "    .dataframe tbody tr th {\n",
       "        vertical-align: top;\n",
       "    }\n",
       "</style>\n",
       "<table border=\"1\" class=\"dataframe\">\n",
       "  <thead>\n",
       "    <tr style=\"text-align: right;\">\n",
       "      <th>Predicted</th>\n",
       "      <th>1</th>\n",
       "      <th>2</th>\n",
       "      <th>All</th>\n",
       "    </tr>\n",
       "    <tr>\n",
       "      <th>True</th>\n",
       "      <th></th>\n",
       "      <th></th>\n",
       "      <th></th>\n",
       "    </tr>\n",
       "  </thead>\n",
       "  <tbody>\n",
       "    <tr>\n",
       "      <th>1</th>\n",
       "      <td>32</td>\n",
       "      <td>5</td>\n",
       "      <td>37</td>\n",
       "    </tr>\n",
       "    <tr>\n",
       "      <th>2</th>\n",
       "      <td>7</td>\n",
       "      <td>36</td>\n",
       "      <td>43</td>\n",
       "    </tr>\n",
       "    <tr>\n",
       "      <th>All</th>\n",
       "      <td>39</td>\n",
       "      <td>41</td>\n",
       "      <td>80</td>\n",
       "    </tr>\n",
       "  </tbody>\n",
       "</table>\n",
       "</div>"
      ],
      "text/plain": [
       "Predicted   1   2  All\n",
       "True                  \n",
       "1          32   5   37\n",
       "2           7  36   43\n",
       "All        39  41   80"
      ]
     },
     "execution_count": 86,
     "metadata": {},
     "output_type": "execute_result"
    }
   ],
   "source": [
    "pd.crosstab(y_true, y_pred, rownames=['True'], colnames=['Predicted'], margins=True)"
   ]
  },
  {
   "cell_type": "code",
   "execution_count": 87,
   "metadata": {},
   "outputs": [
    {
     "data": {
      "text/plain": [
       "(array([0.82051282, 0.87804878]),\n",
       " array([0.86486486, 0.8372093 ]),\n",
       " array([0.84210526, 0.85714286]),\n",
       " array([37, 43], dtype=int64))"
      ]
     },
     "execution_count": 87,
     "metadata": {},
     "output_type": "execute_result"
    }
   ],
   "source": [
    "# precision, recall, F1-score\n",
    "from sklearn.metrics import precision_recall_fscore_support\n",
    "\n",
    "precision_recall_fscore_support(y_true, y_pred)"
   ]
  },
  {
   "cell_type": "code",
   "execution_count": 88,
   "metadata": {},
   "outputs": [
    {
     "name": "stderr",
     "output_type": "stream",
     "text": [
      "C:\\Users\\yasser\\Anaconda2\\envs\\pyt36\\lib\\site-packages\\sklearn\\ensemble\\weight_boosting.py:29: DeprecationWarning: numpy.core.umath_tests is an internal NumPy module and should not be imported. It will be removed in a future NumPy release.\n",
      "  from numpy.core.umath_tests import inner1d\n"
     ]
    },
    {
     "data": {
      "text/plain": [
       "RandomForestClassifier(bootstrap=True, class_weight=None, criterion='gini',\n",
       "            max_depth=None, max_features='auto', max_leaf_nodes=None,\n",
       "            min_impurity_decrease=0.0, min_impurity_split=None,\n",
       "            min_samples_leaf=1, min_samples_split=2,\n",
       "            min_weight_fraction_leaf=0.0, n_estimators=10, n_jobs=1,\n",
       "            oob_score=False, random_state=0, verbose=0, warm_start=False)"
      ]
     },
     "execution_count": 88,
     "metadata": {},
     "output_type": "execute_result"
    }
   ],
   "source": [
    "# RandomForest classifier\n",
    "from sklearn.ensemble import RandomForestClassifier, RandomForestRegressor\n",
    "import xgboost as xgb\n",
    "from sklearn.metrics import roc_auc_score\n",
    "# Create a random forest Classifier. By convention, rf, put hyperparameters, default\n",
    "rf = RandomForestClassifier(random_state=0)\n",
    "\n",
    "# Train the Classifier to take the X-training features and learn how they \n",
    "# relate to the y-training target independent variable\n",
    "\n",
    "rf.fit(X_train, y_train)  # fit model\n"
   ]
  },
  {
   "cell_type": "code",
   "execution_count": 89,
   "metadata": {},
   "outputs": [
    {
     "name": "stdout",
     "output_type": "stream",
     "text": [
      "classifier accuracy: 0.8\n"
     ]
    }
   ],
   "source": [
    "# Evaluate Randomforest\n",
    "print(\"classifier accuracy:\", rf.score(X_test, y_test))  # score model"
   ]
  },
  {
   "cell_type": "code",
   "execution_count": 90,
   "metadata": {},
   "outputs": [
    {
     "data": {
      "text/plain": [
       "array([0.33364148, 0.19288894, 0.03945535, 0.04863389, 0.10300848,\n",
       "       0.11154813, 0.10707497, 0.06374874])"
      ]
     },
     "execution_count": 90,
     "metadata": {},
     "output_type": "execute_result"
    }
   ],
   "source": [
    "# feature Importance\n",
    "# Rank of the importance of feature\n",
    "rf.feature_importances_"
   ]
  },
  {
   "cell_type": "code",
   "execution_count": 91,
   "metadata": {},
   "outputs": [
    {
     "data": {
      "text/html": [
       "<div>\n",
       "<style>\n",
       "    .dataframe thead tr:only-child th {\n",
       "        text-align: right;\n",
       "    }\n",
       "\n",
       "    .dataframe thead th {\n",
       "        text-align: left;\n",
       "    }\n",
       "\n",
       "    .dataframe tbody tr th {\n",
       "        vertical-align: top;\n",
       "    }\n",
       "</style>\n",
       "<table border=\"1\" class=\"dataframe\">\n",
       "  <thead>\n",
       "    <tr style=\"text-align: right;\">\n",
       "      <th></th>\n",
       "      <th>importance</th>\n",
       "    </tr>\n",
       "  </thead>\n",
       "  <tbody>\n",
       "    <tr>\n",
       "      <th>Manufactured</th>\n",
       "      <td>0.333641</td>\n",
       "    </tr>\n",
       "    <tr>\n",
       "      <th>Age</th>\n",
       "      <td>0.192889</td>\n",
       "    </tr>\n",
       "    <tr>\n",
       "      <th>EngineSizeLog</th>\n",
       "      <td>0.111548</td>\n",
       "    </tr>\n",
       "    <tr>\n",
       "      <th>vmake_lbcode</th>\n",
       "      <td>0.107075</td>\n",
       "    </tr>\n",
       "    <tr>\n",
       "      <th>DamageCat3</th>\n",
       "      <td>0.103008</td>\n",
       "    </tr>\n",
       "  </tbody>\n",
       "</table>\n",
       "</div>"
      ],
      "text/plain": [
       "               importance\n",
       "Manufactured     0.333641\n",
       "Age              0.192889\n",
       "EngineSizeLog    0.111548\n",
       "vmake_lbcode     0.107075\n",
       "DamageCat3       0.103008"
      ]
     },
     "execution_count": 91,
     "metadata": {},
     "output_type": "execute_result"
    }
   ],
   "source": [
    "# feature importance\n",
    "\n",
    "feature_importances = pd.DataFrame(rf.feature_importances_,index = features_df.columns,\n",
    "                                   columns=['importance']).sort_values('importance',ascending=False)\n",
    "\n",
    "feature_importances.head()"
   ]
  },
  {
   "cell_type": "code",
   "execution_count": 92,
   "metadata": {},
   "outputs": [
    {
     "name": "stdout",
     "output_type": "stream",
     "text": [
      "Accuracy: 0.7875\n"
     ]
    }
   ],
   "source": [
    "#Import knearest neighbors Classifier model\n",
    "from sklearn.neighbors import KNeighborsClassifier\n",
    "\n",
    "#Create KNN Classifier\n",
    "knn = KNeighborsClassifier(n_neighbors=7)\n",
    "\n",
    "#Train the model using the training sets\n",
    "knn.fit(X_train, y_train)\n",
    "\n",
    "#Predict the response for test dataset\n",
    "y_pred = knn.predict(X_test)\n",
    "\n",
    "# Model Accuracy, how often is the classifier correct?\n",
    "print(\"Accuracy:\",metrics.accuracy_score(y_test, y_pred))"
   ]
  },
  {
   "cell_type": "code",
   "execution_count": 93,
   "metadata": {},
   "outputs": [
    {
     "name": "stdout",
     "output_type": "stream",
     "text": [
      "Accuracy: 0.8375\n"
     ]
    }
   ],
   "source": [
    "#Import svm model\n",
    "from sklearn import svm\n",
    "\n",
    "#Create a svm Classifier\n",
    "clf = svm.SVC(kernel='linear') # Linear Kernel\n",
    "\n",
    "#Train the model using the training sets\n",
    "clf.fit(X_train, y_train)\n",
    "\n",
    "#Predict the response for test dataset\n",
    "y_pred = clf.predict(X_test)\n",
    "# Model Accuracy: how often is the classifier correct?\n",
    "print(\"Accuracy:\",metrics.accuracy_score(y_test, y_pred))"
   ]
  },
  {
   "cell_type": "code",
   "execution_count": 94,
   "metadata": {},
   "outputs": [],
   "source": [
    "# Comparison of prediction accuracy by the models shows that logistic regression gave the best performance\n",
    "# based on the data.The more data intensive estimators gave lower performance accuracy\n",
    "\n",
    "# logistic regression 86%, support vector machine 83.75%, RandomForest 80% and K Nearest neighbour 78.75%\n",
    "# The results from these base models shows that with more data, feature engineering and hyperparameter tunning\n",
    "# on SVM,RandomForest and KNN, the accuracy can be improved."
   ]
  },
  {
   "cell_type": "code",
   "execution_count": 122,
   "metadata": {},
   "outputs": [
    {
     "name": "stdout",
     "output_type": "stream",
     "text": [
      "<class 'pandas.core.frame.DataFrame'>\n",
      "RangeIndex: 400 entries, 0 to 399\n",
      "Data columns (total 9 columns):\n",
      "Manufactured          400 non-null int64\n",
      "Age                   400 non-null int64\n",
      "DamageCat1            400 non-null int64\n",
      "DamageCat2            400 non-null int64\n",
      "DamageCat3            400 non-null int64\n",
      "EngineSizeLog         400 non-null float64\n",
      "vmake_lbcode          400 non-null int64\n",
      "vehicletype_lbcode    400 non-null int64\n",
      "ActualOutput          400 non-null int64\n",
      "dtypes: float64(1), int64(8)\n",
      "memory usage: 28.2 KB\n"
     ]
    }
   ],
   "source": [
    "\n",
    "bag_df = vehicle_feat_df2.copy()\n",
    "\n",
    "bag_df = bag_df[['Manufactured','Age','DamageCat1','DamageCat2','DamageCat3','EngineSizeLog','vmake_lbcode','vehicletype_lbcode','ActualOutput']]\n",
    "bag_df.info()"
   ]
  },
  {
   "cell_type": "code",
   "execution_count": 123,
   "metadata": {},
   "outputs": [],
   "source": [
    "# combining different models\n",
    "#Ensembling experiments.\n",
    "\n",
    "from sklearn.preprocessing import MinMaxScaler\n",
    "# features and Target dataset in vehicle_feat_df2\n",
    "\n",
    "\n",
    "\n",
    "scaler = MinMaxScaler(feature_range=(0, 1))\n",
    "normalized_df = scaler.fit_transform(bag_df)\n",
    "\n",
    "X = normalized_df[:,0:7]\n",
    "Y = normalized_df[:,8]\n"
   ]
  },
  {
   "cell_type": "code",
   "execution_count": 124,
   "metadata": {},
   "outputs": [
    {
     "name": "stdout",
     "output_type": "stream",
     "text": [
      "0.7975\n"
     ]
    }
   ],
   "source": [
    "# Bagging based Ensembling. Using a Bagged Decision Tree.\n",
    "# Bagged Decision Trees for Classification - necessary dependencies\n",
    "\n",
    "from sklearn import model_selection\n",
    "from sklearn.ensemble import BaggingClassifier\n",
    "from sklearn.tree import DecisionTreeClassifier\n",
    "\n",
    "\n",
    "\n",
    "kfold = model_selection.KFold(n_splits=10, random_state=7)\n",
    "cart = DecisionTreeClassifier()\n",
    "num_trees = 100\n",
    "model = BaggingClassifier(base_estimator=cart, n_estimators=num_trees, random_state=7)\n",
    "results = model_selection.cross_val_score(model, X, Y, cv=kfold)\n",
    "print(results.mean())\n",
    "\n"
   ]
  },
  {
   "cell_type": "code",
   "execution_count": 125,
   "metadata": {},
   "outputs": [
    {
     "name": "stdout",
     "output_type": "stream",
     "text": [
      "0.8125\n"
     ]
    }
   ],
   "source": [
    "# AdaBoost Classification\n",
    "\n",
    "from sklearn.ensemble import AdaBoostClassifier\n",
    "seed = 7\n",
    "num_trees = 70\n",
    "kfold = model_selection.KFold(n_splits=10, random_state=seed)\n",
    "model = AdaBoostClassifier(n_estimators=num_trees, random_state=seed)\n",
    "results = model_selection.cross_val_score(model, X, Y, cv=kfold)\n",
    "print(results.mean())\n"
   ]
  },
  {
   "cell_type": "code",
   "execution_count": null,
   "metadata": {},
   "outputs": [],
   "source": []
  }
 ],
 "metadata": {
  "kernelspec": {
   "display_name": "Python 3",
   "language": "python",
   "name": "python3"
  },
  "language_info": {
   "codemirror_mode": {
    "name": "ipython",
    "version": 3
   },
   "file_extension": ".py",
   "mimetype": "text/x-python",
   "name": "python",
   "nbconvert_exporter": "python",
   "pygments_lexer": "ipython3",
   "version": "3.6.6"
  }
 },
 "nbformat": 4,
 "nbformat_minor": 2
}
